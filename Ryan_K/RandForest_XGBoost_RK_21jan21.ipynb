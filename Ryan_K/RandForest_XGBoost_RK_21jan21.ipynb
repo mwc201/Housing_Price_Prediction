{
 "cells": [
  {
   "cell_type": "markdown",
   "metadata": {
    "toc": true
   },
   "source": [
    "<h1>Table of Contents<span class=\"tocSkip\"></span></h1>\n",
    "<div class=\"toc\"><ul class=\"toc-item\"><li><span><a href=\"#Import-Libraries\" data-toc-modified-id=\"Import-Libraries-1\"><span class=\"toc-item-num\">1&nbsp;&nbsp;</span>Import Libraries</a></span></li><li><span><a href=\"#Pre-Processing-for-modeling\" data-toc-modified-id=\"Pre-Processing-for-modeling-2\"><span class=\"toc-item-num\">2&nbsp;&nbsp;</span>Pre-Processing for modeling</a></span></li><li><span><a href=\"#Model-Screen-Loop\" data-toc-modified-id=\"Model-Screen-Loop-3\"><span class=\"toc-item-num\">3&nbsp;&nbsp;</span>Model Screen Loop</a></span><ul class=\"toc-item\"><li><span><a href=\"#Model-ranking-without-fine-adjustment-of-hyperparameters-as-assessed-by-R^2-score:\" data-toc-modified-id=\"Model-ranking-without-fine-adjustment-of-hyperparameters-as-assessed-by-R^2-score:-3.1\"><span class=\"toc-item-num\">3.1&nbsp;&nbsp;</span>Model ranking without fine adjustment of hyperparameters as assessed by R^2 score:</a></span></li></ul></li><li><span><a href=\"#Individual-Machine-Learning-Models\" data-toc-modified-id=\"Individual-Machine-Learning-Models-4\"><span class=\"toc-item-num\">4&nbsp;&nbsp;</span>Individual Machine Learning Models</a></span><ul class=\"toc-item\"><li><span><a href=\"#Multiple-Linear-Regression\" data-toc-modified-id=\"Multiple-Linear-Regression-4.1\"><span class=\"toc-item-num\">4.1&nbsp;&nbsp;</span>Multiple Linear Regression</a></span><ul class=\"toc-item\"><li><span><a href=\"#Workflow-from:-live-learning-sessions/machine-learning-and-customer-analytics/Retail-Sale-Modeling-with-Multiple-Linear-Regression.ipynb\" data-toc-modified-id=\"Workflow-from:-live-learning-sessions/machine-learning-and-customer-analytics/Retail-Sale-Modeling-with-Multiple-Linear-Regression.ipynb-4.1.1\"><span class=\"toc-item-num\">4.1.1&nbsp;&nbsp;</span>Workflow from: live-learning-sessions/machine-learning-and-customer-analytics/Retail Sale Modeling with Multiple Linear Regression.ipynb</a></span></li><li><span><a href=\"#FEATURE-SELECTION\" data-toc-modified-id=\"FEATURE-SELECTION-4.1.2\"><span class=\"toc-item-num\">4.1.2&nbsp;&nbsp;</span>FEATURE SELECTION</a></span></li><li><span><a href=\"#Conclusion:-MLR-Model-is-worse-using-reduced-dataset\" data-toc-modified-id=\"Conclusion:-MLR-Model-is-worse-using-reduced-dataset-4.1.3\"><span class=\"toc-item-num\">4.1.3&nbsp;&nbsp;</span>Conclusion: MLR Model is worse using reduced dataset</a></span></li><li><span><a href=\"#Scan-for-impact-of-features-on-models\" data-toc-modified-id=\"Scan-for-impact-of-features-on-models-4.1.4\"><span class=\"toc-item-num\">4.1.4&nbsp;&nbsp;</span>Scan for impact of features on models</a></span></li><li><span><a href=\"#From-these-analyses,-can-conclude-that-need-almost-all-features-to-achieve-R^2-higher-than-0.9,-at-most-can-only-drop-~3-features-and-maintain-R^2-over-0.9\" data-toc-modified-id=\"From-these-analyses,-can-conclude-that-need-almost-all-features-to-achieve-R^2-higher-than-0.9,-at-most-can-only-drop-~3-features-and-maintain-R^2-over-0.9-4.1.5\"><span class=\"toc-item-num\">4.1.5&nbsp;&nbsp;</span>From these analyses, can conclude that need almost all features to achieve R^2 higher than 0.9, at most can only drop ~3 features and maintain R^2 over 0.9</a></span></li><li><span><a href=\"#Detecting-Multicollinearity-Among-Continuous-Features\" data-toc-modified-id=\"Detecting-Multicollinearity-Among-Continuous-Features-4.1.6\"><span class=\"toc-item-num\">4.1.6&nbsp;&nbsp;</span>Detecting Multicollinearity Among Continuous Features</a></span></li></ul></li><li><span><a href=\"#Ridge\" data-toc-modified-id=\"Ridge-4.2\"><span class=\"toc-item-num\">4.2&nbsp;&nbsp;</span>Ridge</a></span><ul class=\"toc-item\"><li><span><a href=\"#Note-that-LotArea,-MasVnrArea,-TotalBsmtSF-coefficients-are-very-close-to-zero\" data-toc-modified-id=\"Note-that-LotArea,-MasVnrArea,-TotalBsmtSF-coefficients-are-very-close-to-zero-4.2.1\"><span class=\"toc-item-num\">4.2.1&nbsp;&nbsp;</span>Note that LotArea, MasVnrArea, TotalBsmtSF coefficients are very close to zero</a></span></li><li><span><a href=\"#Conclusion:-Ridge-model-alpha-=1-(without-feature-selection)-performs-slightly-worse-that-MLR-model-alone\" data-toc-modified-id=\"Conclusion:-Ridge-model-alpha-=1-(without-feature-selection)-performs-slightly-worse-that-MLR-model-alone-4.2.2\"><span class=\"toc-item-num\">4.2.2&nbsp;&nbsp;</span>Conclusion: Ridge model alpha =1 (without feature selection) performs slightly worse that MLR model alone</a></span></li></ul></li><li><span><a href=\"#Ridge-varying-alpha\" data-toc-modified-id=\"Ridge-varying-alpha-4.3\"><span class=\"toc-item-num\">4.3&nbsp;&nbsp;</span>Ridge varying alpha</a></span></li><li><span><a href=\"#Lasso-varying-alpha\" data-toc-modified-id=\"Lasso-varying-alpha-4.4\"><span class=\"toc-item-num\">4.4&nbsp;&nbsp;</span>Lasso varying alpha</a></span></li><li><span><a href=\"#Ridge-Lasso-R^2-of-Train-and-Test-Sets\" data-toc-modified-id=\"Ridge-Lasso-R^2-of-Train-and-Test-Sets-4.5\"><span class=\"toc-item-num\">4.5&nbsp;&nbsp;</span>Ridge Lasso R^2 of Train and Test Sets</a></span><ul class=\"toc-item\"><li><span><a href=\"#Ridge-does-something-strange,-Train-and-test-set-R^2-scores-dont-converge\" data-toc-modified-id=\"Ridge-does-something-strange,-Train-and-test-set-R^2-scores-dont-converge-4.5.1\"><span class=\"toc-item-num\">4.5.1&nbsp;&nbsp;</span>Ridge does something strange, Train and test set R^2 scores dont converge</a></span></li><li><span><a href=\"#Modeling-of-reduced-dataset-after-feature-selection\" data-toc-modified-id=\"Modeling-of-reduced-dataset-after-feature-selection-4.5.2\"><span class=\"toc-item-num\">4.5.2&nbsp;&nbsp;</span>Modeling of reduced dataset after feature selection</a></span></li><li><span><a href=\"#Conclusion:-No-improvement-of-R^2-values-from-modeling-of-reduced-dataset\" data-toc-modified-id=\"Conclusion:-No-improvement-of-R^2-values-from-modeling-of-reduced-dataset-4.5.3\"><span class=\"toc-item-num\">4.5.3&nbsp;&nbsp;</span>Conclusion: No improvement of R^2 values from modeling of reduced dataset</a></span></li></ul></li><li><span><a href=\"#Elastic-Net-varying-alpha-and-rho\" data-toc-modified-id=\"Elastic-Net-varying-alpha-and-rho-4.6\"><span class=\"toc-item-num\">4.6&nbsp;&nbsp;</span>Elastic Net varying alpha and rho</a></span><ul class=\"toc-item\"><li><span><a href=\"#Elastic-Net-R^2-score-not-improved-over-that-of-MLR-model-alone\" data-toc-modified-id=\"Elastic-Net-R^2-score-not-improved-over-that-of-MLR-model-alone-4.6.1\"><span class=\"toc-item-num\">4.6.1&nbsp;&nbsp;</span>Elastic Net R^2 score not improved over that of MLR model alone</a></span></li></ul></li><li><span><a href=\"#KNN-with-Grid-Search\" data-toc-modified-id=\"KNN-with-Grid-Search-4.7\"><span class=\"toc-item-num\">4.7&nbsp;&nbsp;</span>KNN with Grid Search</a></span><ul class=\"toc-item\"><li><span><a href=\"#Workflow-from:-Jump-Start-Model-Selection-with-Python/PML_3_soln.ipynb-and-Jump-Start-Model-Selection-with-Python/PML_ModelSelectionJumpStart/Feature_and_Model_Selection_Jump_Start.ipynb\" data-toc-modified-id=\"Workflow-from:-Jump-Start-Model-Selection-with-Python/PML_3_soln.ipynb-and-Jump-Start-Model-Selection-with-Python/PML_ModelSelectionJumpStart/Feature_and_Model_Selection_Jump_Start.ipynb-4.7.1\"><span class=\"toc-item-num\">4.7.1&nbsp;&nbsp;</span>Workflow from: Jump Start Model Selection with Python/PML_3_soln.ipynb and Jump Start Model Selection with Python/PML_ModelSelectionJumpStart/Feature_and_Model_Selection_Jump_Start.ipynb</a></span></li><li><span><a href=\"#Just-an-example-of-grid-searching,-should-be-used-for-whichever-model(s)-proves-most-promising-following-initial-screen-to-identify-best-scoring-model(s).-As-in:-https://www.kaggle.com/turkenm/eda-crossvalidation-gridsearchcv-acc-82\" data-toc-modified-id=\"Just-an-example-of-grid-searching,-should-be-used-for-whichever-model(s)-proves-most-promising-following-initial-screen-to-identify-best-scoring-model(s).-As-in:-https://www.kaggle.com/turkenm/eda-crossvalidation-gridsearchcv-acc-82-4.7.2\"><span class=\"toc-item-num\">4.7.2&nbsp;&nbsp;</span>Just an example of grid searching, should be used for whichever model(s) proves most promising following initial screen to identify best scoring model(s). As in: <a href=\"https://www.kaggle.com/turkenm/eda-crossvalidation-gridsearchcv-acc-82\" target=\"_blank\">https://www.kaggle.com/turkenm/eda-crossvalidation-gridsearchcv-acc-82</a></a></span></li></ul></li><li><span><a href=\"#Random-Forest\" data-toc-modified-id=\"Random-Forest-4.8\"><span class=\"toc-item-num\">4.8&nbsp;&nbsp;</span>Random Forest</a></span><ul class=\"toc-item\"><li><span><a href=\"#Influential-Outlier-Identification-using-Cook's-distance-from:\" data-toc-modified-id=\"Influential-Outlier-Identification-using-Cook's-distance-from:-4.8.1\"><span class=\"toc-item-num\">4.8.1&nbsp;&nbsp;</span>Influential Outlier Identification using Cook's distance from:</a></span></li></ul></li><li><span><a href=\"#Repeat-Random-Forest-Model-with-Influential-Outliers-removed\" data-toc-modified-id=\"Repeat-Random-Forest-Model-with-Influential-Outliers-removed-4.9\"><span class=\"toc-item-num\">4.9&nbsp;&nbsp;</span>Repeat Random Forest Model with Influential Outliers removed</a></span></li><li><span><a href=\"#Random-Forest-Grid-Search\" data-toc-modified-id=\"Random-Forest-Grid-Search-4.10\"><span class=\"toc-item-num\">4.10&nbsp;&nbsp;</span>Random Forest Grid Search</a></span></li><li><span><a href=\"#Decision-Tree-Regressor\" data-toc-modified-id=\"Decision-Tree-Regressor-4.11\"><span class=\"toc-item-num\">4.11&nbsp;&nbsp;</span>Decision Tree Regressor</a></span></li><li><span><a href=\"#Gradient-Boosting\" data-toc-modified-id=\"Gradient-Boosting-4.12\"><span class=\"toc-item-num\">4.12&nbsp;&nbsp;</span>Gradient Boosting</a></span></li><li><span><a href=\"#XGBOOST\" data-toc-modified-id=\"XGBOOST-4.13\"><span class=\"toc-item-num\">4.13&nbsp;&nbsp;</span>XGBOOST</a></span></li></ul></li></ul></div>"
   ]
  },
  {
   "cell_type": "markdown",
   "metadata": {},
   "source": [
    "# Import Libraries"
   ]
  },
  {
   "cell_type": "code",
   "execution_count": 28,
   "metadata": {
    "ExecuteTime": {
     "end_time": "2021-01-20T01:06:11.948729Z",
     "start_time": "2021-01-20T01:06:11.925070Z"
    }
   },
   "outputs": [
    {
     "data": {
      "text/html": [
       "<style>.container { width:100% !important; }</style>"
      ],
      "text/plain": [
       "<IPython.core.display.HTML object>"
      ]
     },
     "metadata": {},
     "output_type": "display_data"
    }
   ],
   "source": [
    "import pandas as pd\n",
    "import numpy as np\n",
    "from matplotlib import pyplot as plt\n",
    "import seaborn as sns\n",
    "import time\n",
    "import random\n",
    "import statsmodels.api as sm\n",
    "import sklearn.model_selection as ms\n",
    "import xgboost as xgb\n",
    "from scipy.stats import uniform, randint\n",
    "%matplotlib inline\n",
    "plt.rcParams['figure.figsize'] = (20, 10)\n",
    "sns.set(style = \"whitegrid\")\n",
    "pd.set_option('display.max_columns', 500)\n",
    "pd.set_option('display.max_rows', 500)\n",
    "\n",
    "from sklearn.linear_model import LinearRegression, Ridge, RidgeCV, Lasso, LassoCV, ElasticNet\n",
    "\n",
    "from sklearn.ensemble import RandomForestRegressor, GradientBoostingRegressor\n",
    "from sklearn.model_selection import train_test_split, GridSearchCV, KFold, cross_val_score\n",
    "from sklearn.preprocessing import OrdinalEncoder, OneHotEncoder, StandardScaler\n",
    "from sklearn import neighbors\n",
    "from sklearn.metrics import mean_squared_log_error, mean_squared_error, accuracy_score\n",
    "from sklearn.tree import DecisionTreeRegressor, export_graphviz\n",
    "\n",
    "from IPython.core.display import display, HTML\n",
    "display(HTML(\"<style>.container { width:100% !important; }</style>\"))"
   ]
  },
  {
   "cell_type": "markdown",
   "metadata": {},
   "source": [
    "##  Random Forest\n"
   ]
  },
  {
   "cell_type": "code",
   "execution_count": 29,
   "metadata": {
    "ExecuteTime": {
     "end_time": "2021-01-18T23:26:09.616778Z",
     "start_time": "2021-01-18T23:26:09.506Z"
    }
   },
   "outputs": [],
   "source": [
    "#import df\n",
    "train_undum_df = pd.read_csv('/Users/RK/Google Drive/NYC_DSA/Project3_ML/Housing_Price_Prediction/Data/train_undum_df.csv', index_col=0)\n",
    "test_undum_df = pd.read_csv('/Users/RK/Google Drive/NYC_DSA/Project3_ML/Housing_Price_Prediction/Data/test_undum_df.csv', index_col=0)"
   ]
  },
  {
   "cell_type": "code",
   "execution_count": 30,
   "metadata": {
    "ExecuteTime": {
     "end_time": "2021-01-18T23:26:09.618918Z",
     "start_time": "2021-01-18T23:26:09.522Z"
    }
   },
   "outputs": [
    {
     "data": {
      "text/html": [
       "<div>\n",
       "<style scoped>\n",
       "    .dataframe tbody tr th:only-of-type {\n",
       "        vertical-align: middle;\n",
       "    }\n",
       "\n",
       "    .dataframe tbody tr th {\n",
       "        vertical-align: top;\n",
       "    }\n",
       "\n",
       "    .dataframe thead th {\n",
       "        text-align: right;\n",
       "    }\n",
       "</style>\n",
       "<table border=\"1\" class=\"dataframe\">\n",
       "  <thead>\n",
       "    <tr style=\"text-align: right;\">\n",
       "      <th></th>\n",
       "      <th>MSSubClass</th>\n",
       "      <th>MSZoning</th>\n",
       "      <th>LotShape</th>\n",
       "      <th>LandContour</th>\n",
       "      <th>LotConfig</th>\n",
       "      <th>Neighborhood</th>\n",
       "      <th>Condition1</th>\n",
       "      <th>BldgType</th>\n",
       "      <th>HouseStyle</th>\n",
       "      <th>RoofStyle</th>\n",
       "      <th>Exterior1st</th>\n",
       "      <th>Exterior2nd</th>\n",
       "      <th>MasVnrType</th>\n",
       "      <th>Foundation</th>\n",
       "      <th>GarageType</th>\n",
       "      <th>GarageCond</th>\n",
       "      <th>SaleType</th>\n",
       "      <th>SaleCondition</th>\n",
       "      <th>LotFrontage</th>\n",
       "      <th>LotArea</th>\n",
       "      <th>OverallQual</th>\n",
       "      <th>MasVnrArea</th>\n",
       "      <th>ExterQual</th>\n",
       "      <th>BsmtQual</th>\n",
       "      <th>TotalBsmtSF</th>\n",
       "      <th>HeatingQC</th>\n",
       "      <th>CentralAir</th>\n",
       "      <th>GrLivArea</th>\n",
       "      <th>KitchenQual</th>\n",
       "      <th>TotRmsAbvGrd</th>\n",
       "      <th>FireplaceQu</th>\n",
       "      <th>GarageFinish</th>\n",
       "      <th>GarageCars</th>\n",
       "      <th>GarageQual</th>\n",
       "      <th>Total_OutdoorSF</th>\n",
       "      <th>Baths</th>\n",
       "      <th>Age</th>\n",
       "      <th>AgeRemodAdd</th>\n",
       "      <th>AgeGarage</th>\n",
       "    </tr>\n",
       "  </thead>\n",
       "  <tbody>\n",
       "    <tr>\n",
       "      <th>0</th>\n",
       "      <td>0</td>\n",
       "      <td>2</td>\n",
       "      <td>3</td>\n",
       "      <td>3</td>\n",
       "      <td>4</td>\n",
       "      <td>12</td>\n",
       "      <td>1</td>\n",
       "      <td>0</td>\n",
       "      <td>2</td>\n",
       "      <td>1</td>\n",
       "      <td>10</td>\n",
       "      <td>12</td>\n",
       "      <td>2</td>\n",
       "      <td>1</td>\n",
       "      <td>1</td>\n",
       "      <td>5</td>\n",
       "      <td>8</td>\n",
       "      <td>4</td>\n",
       "      <td>80.0</td>\n",
       "      <td>11622</td>\n",
       "      <td>5</td>\n",
       "      <td>0.0</td>\n",
       "      <td>3</td>\n",
       "      <td>3</td>\n",
       "      <td>882.0</td>\n",
       "      <td>3</td>\n",
       "      <td>1</td>\n",
       "      <td>896</td>\n",
       "      <td>3</td>\n",
       "      <td>5</td>\n",
       "      <td>0</td>\n",
       "      <td>1</td>\n",
       "      <td>1.0</td>\n",
       "      <td>3</td>\n",
       "      <td>260</td>\n",
       "      <td>1.0</td>\n",
       "      <td>49</td>\n",
       "      <td>49</td>\n",
       "      <td>49.0</td>\n",
       "    </tr>\n",
       "    <tr>\n",
       "      <th>1</th>\n",
       "      <td>0</td>\n",
       "      <td>3</td>\n",
       "      <td>0</td>\n",
       "      <td>3</td>\n",
       "      <td>0</td>\n",
       "      <td>12</td>\n",
       "      <td>2</td>\n",
       "      <td>0</td>\n",
       "      <td>2</td>\n",
       "      <td>3</td>\n",
       "      <td>11</td>\n",
       "      <td>13</td>\n",
       "      <td>1</td>\n",
       "      <td>1</td>\n",
       "      <td>1</td>\n",
       "      <td>5</td>\n",
       "      <td>8</td>\n",
       "      <td>4</td>\n",
       "      <td>81.0</td>\n",
       "      <td>14267</td>\n",
       "      <td>6</td>\n",
       "      <td>108.0</td>\n",
       "      <td>3</td>\n",
       "      <td>3</td>\n",
       "      <td>1329.0</td>\n",
       "      <td>3</td>\n",
       "      <td>1</td>\n",
       "      <td>1329</td>\n",
       "      <td>4</td>\n",
       "      <td>6</td>\n",
       "      <td>0</td>\n",
       "      <td>1</td>\n",
       "      <td>1.0</td>\n",
       "      <td>3</td>\n",
       "      <td>429</td>\n",
       "      <td>2.0</td>\n",
       "      <td>52</td>\n",
       "      <td>52</td>\n",
       "      <td>52.0</td>\n",
       "    </tr>\n",
       "    <tr>\n",
       "      <th>2</th>\n",
       "      <td>5</td>\n",
       "      <td>3</td>\n",
       "      <td>0</td>\n",
       "      <td>3</td>\n",
       "      <td>4</td>\n",
       "      <td>8</td>\n",
       "      <td>2</td>\n",
       "      <td>0</td>\n",
       "      <td>4</td>\n",
       "      <td>1</td>\n",
       "      <td>10</td>\n",
       "      <td>12</td>\n",
       "      <td>2</td>\n",
       "      <td>2</td>\n",
       "      <td>1</td>\n",
       "      <td>5</td>\n",
       "      <td>8</td>\n",
       "      <td>4</td>\n",
       "      <td>74.0</td>\n",
       "      <td>13830</td>\n",
       "      <td>5</td>\n",
       "      <td>0.0</td>\n",
       "      <td>3</td>\n",
       "      <td>4</td>\n",
       "      <td>928.0</td>\n",
       "      <td>4</td>\n",
       "      <td>1</td>\n",
       "      <td>1629</td>\n",
       "      <td>3</td>\n",
       "      <td>6</td>\n",
       "      <td>3</td>\n",
       "      <td>3</td>\n",
       "      <td>2.0</td>\n",
       "      <td>3</td>\n",
       "      <td>246</td>\n",
       "      <td>3.0</td>\n",
       "      <td>13</td>\n",
       "      <td>12</td>\n",
       "      <td>13.0</td>\n",
       "    </tr>\n",
       "    <tr>\n",
       "      <th>3</th>\n",
       "      <td>5</td>\n",
       "      <td>3</td>\n",
       "      <td>0</td>\n",
       "      <td>3</td>\n",
       "      <td>4</td>\n",
       "      <td>8</td>\n",
       "      <td>2</td>\n",
       "      <td>0</td>\n",
       "      <td>4</td>\n",
       "      <td>1</td>\n",
       "      <td>10</td>\n",
       "      <td>12</td>\n",
       "      <td>1</td>\n",
       "      <td>2</td>\n",
       "      <td>1</td>\n",
       "      <td>5</td>\n",
       "      <td>8</td>\n",
       "      <td>4</td>\n",
       "      <td>78.0</td>\n",
       "      <td>9978</td>\n",
       "      <td>6</td>\n",
       "      <td>20.0</td>\n",
       "      <td>3</td>\n",
       "      <td>3</td>\n",
       "      <td>926.0</td>\n",
       "      <td>5</td>\n",
       "      <td>1</td>\n",
       "      <td>1604</td>\n",
       "      <td>4</td>\n",
       "      <td>7</td>\n",
       "      <td>4</td>\n",
       "      <td>3</td>\n",
       "      <td>2.0</td>\n",
       "      <td>3</td>\n",
       "      <td>396</td>\n",
       "      <td>3.0</td>\n",
       "      <td>12</td>\n",
       "      <td>12</td>\n",
       "      <td>12.0</td>\n",
       "    </tr>\n",
       "    <tr>\n",
       "      <th>4</th>\n",
       "      <td>11</td>\n",
       "      <td>3</td>\n",
       "      <td>0</td>\n",
       "      <td>1</td>\n",
       "      <td>4</td>\n",
       "      <td>22</td>\n",
       "      <td>2</td>\n",
       "      <td>4</td>\n",
       "      <td>2</td>\n",
       "      <td>1</td>\n",
       "      <td>6</td>\n",
       "      <td>6</td>\n",
       "      <td>2</td>\n",
       "      <td>2</td>\n",
       "      <td>1</td>\n",
       "      <td>5</td>\n",
       "      <td>8</td>\n",
       "      <td>4</td>\n",
       "      <td>43.0</td>\n",
       "      <td>5005</td>\n",
       "      <td>8</td>\n",
       "      <td>0.0</td>\n",
       "      <td>4</td>\n",
       "      <td>4</td>\n",
       "      <td>1280.0</td>\n",
       "      <td>5</td>\n",
       "      <td>1</td>\n",
       "      <td>1280</td>\n",
       "      <td>4</td>\n",
       "      <td>5</td>\n",
       "      <td>0</td>\n",
       "      <td>2</td>\n",
       "      <td>2.0</td>\n",
       "      <td>3</td>\n",
       "      <td>226</td>\n",
       "      <td>2.0</td>\n",
       "      <td>18</td>\n",
       "      <td>18</td>\n",
       "      <td>18.0</td>\n",
       "    </tr>\n",
       "    <tr>\n",
       "      <th>...</th>\n",
       "      <td>...</td>\n",
       "      <td>...</td>\n",
       "      <td>...</td>\n",
       "      <td>...</td>\n",
       "      <td>...</td>\n",
       "      <td>...</td>\n",
       "      <td>...</td>\n",
       "      <td>...</td>\n",
       "      <td>...</td>\n",
       "      <td>...</td>\n",
       "      <td>...</td>\n",
       "      <td>...</td>\n",
       "      <td>...</td>\n",
       "      <td>...</td>\n",
       "      <td>...</td>\n",
       "      <td>...</td>\n",
       "      <td>...</td>\n",
       "      <td>...</td>\n",
       "      <td>...</td>\n",
       "      <td>...</td>\n",
       "      <td>...</td>\n",
       "      <td>...</td>\n",
       "      <td>...</td>\n",
       "      <td>...</td>\n",
       "      <td>...</td>\n",
       "      <td>...</td>\n",
       "      <td>...</td>\n",
       "      <td>...</td>\n",
       "      <td>...</td>\n",
       "      <td>...</td>\n",
       "      <td>...</td>\n",
       "      <td>...</td>\n",
       "      <td>...</td>\n",
       "      <td>...</td>\n",
       "      <td>...</td>\n",
       "      <td>...</td>\n",
       "      <td>...</td>\n",
       "      <td>...</td>\n",
       "      <td>...</td>\n",
       "    </tr>\n",
       "    <tr>\n",
       "      <th>1454</th>\n",
       "      <td>13</td>\n",
       "      <td>4</td>\n",
       "      <td>3</td>\n",
       "      <td>3</td>\n",
       "      <td>4</td>\n",
       "      <td>10</td>\n",
       "      <td>2</td>\n",
       "      <td>3</td>\n",
       "      <td>4</td>\n",
       "      <td>1</td>\n",
       "      <td>5</td>\n",
       "      <td>5</td>\n",
       "      <td>2</td>\n",
       "      <td>1</td>\n",
       "      <td>6</td>\n",
       "      <td>3</td>\n",
       "      <td>8</td>\n",
       "      <td>4</td>\n",
       "      <td>21.0</td>\n",
       "      <td>1936</td>\n",
       "      <td>4</td>\n",
       "      <td>0.0</td>\n",
       "      <td>3</td>\n",
       "      <td>3</td>\n",
       "      <td>546.0</td>\n",
       "      <td>4</td>\n",
       "      <td>1</td>\n",
       "      <td>1092</td>\n",
       "      <td>3</td>\n",
       "      <td>5</td>\n",
       "      <td>0</td>\n",
       "      <td>0</td>\n",
       "      <td>0.0</td>\n",
       "      <td>0</td>\n",
       "      <td>0</td>\n",
       "      <td>2.0</td>\n",
       "      <td>36</td>\n",
       "      <td>36</td>\n",
       "      <td>0.0</td>\n",
       "    </tr>\n",
       "    <tr>\n",
       "      <th>1455</th>\n",
       "      <td>13</td>\n",
       "      <td>4</td>\n",
       "      <td>3</td>\n",
       "      <td>3</td>\n",
       "      <td>4</td>\n",
       "      <td>10</td>\n",
       "      <td>2</td>\n",
       "      <td>4</td>\n",
       "      <td>4</td>\n",
       "      <td>1</td>\n",
       "      <td>5</td>\n",
       "      <td>5</td>\n",
       "      <td>2</td>\n",
       "      <td>1</td>\n",
       "      <td>4</td>\n",
       "      <td>5</td>\n",
       "      <td>8</td>\n",
       "      <td>0</td>\n",
       "      <td>21.0</td>\n",
       "      <td>1894</td>\n",
       "      <td>4</td>\n",
       "      <td>0.0</td>\n",
       "      <td>3</td>\n",
       "      <td>3</td>\n",
       "      <td>546.0</td>\n",
       "      <td>3</td>\n",
       "      <td>1</td>\n",
       "      <td>1092</td>\n",
       "      <td>3</td>\n",
       "      <td>6</td>\n",
       "      <td>0</td>\n",
       "      <td>1</td>\n",
       "      <td>1.0</td>\n",
       "      <td>3</td>\n",
       "      <td>24</td>\n",
       "      <td>2.0</td>\n",
       "      <td>36</td>\n",
       "      <td>36</td>\n",
       "      <td>36.0</td>\n",
       "    </tr>\n",
       "    <tr>\n",
       "      <th>1456</th>\n",
       "      <td>0</td>\n",
       "      <td>3</td>\n",
       "      <td>3</td>\n",
       "      <td>3</td>\n",
       "      <td>4</td>\n",
       "      <td>11</td>\n",
       "      <td>2</td>\n",
       "      <td>0</td>\n",
       "      <td>2</td>\n",
       "      <td>1</td>\n",
       "      <td>10</td>\n",
       "      <td>12</td>\n",
       "      <td>2</td>\n",
       "      <td>1</td>\n",
       "      <td>5</td>\n",
       "      <td>5</td>\n",
       "      <td>8</td>\n",
       "      <td>0</td>\n",
       "      <td>160.0</td>\n",
       "      <td>20000</td>\n",
       "      <td>5</td>\n",
       "      <td>0.0</td>\n",
       "      <td>3</td>\n",
       "      <td>3</td>\n",
       "      <td>1224.0</td>\n",
       "      <td>5</td>\n",
       "      <td>1</td>\n",
       "      <td>1224</td>\n",
       "      <td>3</td>\n",
       "      <td>7</td>\n",
       "      <td>3</td>\n",
       "      <td>1</td>\n",
       "      <td>2.0</td>\n",
       "      <td>3</td>\n",
       "      <td>474</td>\n",
       "      <td>2.0</td>\n",
       "      <td>46</td>\n",
       "      <td>10</td>\n",
       "      <td>46.0</td>\n",
       "    </tr>\n",
       "    <tr>\n",
       "      <th>1457</th>\n",
       "      <td>9</td>\n",
       "      <td>3</td>\n",
       "      <td>3</td>\n",
       "      <td>3</td>\n",
       "      <td>4</td>\n",
       "      <td>11</td>\n",
       "      <td>2</td>\n",
       "      <td>0</td>\n",
       "      <td>5</td>\n",
       "      <td>1</td>\n",
       "      <td>6</td>\n",
       "      <td>14</td>\n",
       "      <td>2</td>\n",
       "      <td>2</td>\n",
       "      <td>6</td>\n",
       "      <td>3</td>\n",
       "      <td>8</td>\n",
       "      <td>4</td>\n",
       "      <td>62.0</td>\n",
       "      <td>10441</td>\n",
       "      <td>5</td>\n",
       "      <td>0.0</td>\n",
       "      <td>3</td>\n",
       "      <td>4</td>\n",
       "      <td>912.0</td>\n",
       "      <td>3</td>\n",
       "      <td>1</td>\n",
       "      <td>970</td>\n",
       "      <td>3</td>\n",
       "      <td>6</td>\n",
       "      <td>0</td>\n",
       "      <td>0</td>\n",
       "      <td>0.0</td>\n",
       "      <td>0</td>\n",
       "      <td>112</td>\n",
       "      <td>2.0</td>\n",
       "      <td>14</td>\n",
       "      <td>14</td>\n",
       "      <td>0.0</td>\n",
       "    </tr>\n",
       "    <tr>\n",
       "      <th>1458</th>\n",
       "      <td>5</td>\n",
       "      <td>3</td>\n",
       "      <td>3</td>\n",
       "      <td>3</td>\n",
       "      <td>4</td>\n",
       "      <td>11</td>\n",
       "      <td>2</td>\n",
       "      <td>0</td>\n",
       "      <td>4</td>\n",
       "      <td>1</td>\n",
       "      <td>6</td>\n",
       "      <td>6</td>\n",
       "      <td>1</td>\n",
       "      <td>2</td>\n",
       "      <td>1</td>\n",
       "      <td>5</td>\n",
       "      <td>8</td>\n",
       "      <td>4</td>\n",
       "      <td>74.0</td>\n",
       "      <td>9627</td>\n",
       "      <td>7</td>\n",
       "      <td>94.0</td>\n",
       "      <td>3</td>\n",
       "      <td>4</td>\n",
       "      <td>996.0</td>\n",
       "      <td>5</td>\n",
       "      <td>1</td>\n",
       "      <td>2000</td>\n",
       "      <td>3</td>\n",
       "      <td>9</td>\n",
       "      <td>3</td>\n",
       "      <td>3</td>\n",
       "      <td>3.0</td>\n",
       "      <td>3</td>\n",
       "      <td>238</td>\n",
       "      <td>3.0</td>\n",
       "      <td>13</td>\n",
       "      <td>12</td>\n",
       "      <td>13.0</td>\n",
       "    </tr>\n",
       "  </tbody>\n",
       "</table>\n",
       "<p>1459 rows × 39 columns</p>\n",
       "</div>"
      ],
      "text/plain": [
       "      MSSubClass  MSZoning  LotShape  LandContour  LotConfig  Neighborhood  \\\n",
       "0              0         2         3            3          4            12   \n",
       "1              0         3         0            3          0            12   \n",
       "2              5         3         0            3          4             8   \n",
       "3              5         3         0            3          4             8   \n",
       "4             11         3         0            1          4            22   \n",
       "...          ...       ...       ...          ...        ...           ...   \n",
       "1454          13         4         3            3          4            10   \n",
       "1455          13         4         3            3          4            10   \n",
       "1456           0         3         3            3          4            11   \n",
       "1457           9         3         3            3          4            11   \n",
       "1458           5         3         3            3          4            11   \n",
       "\n",
       "      Condition1  BldgType  HouseStyle  RoofStyle  Exterior1st  Exterior2nd  \\\n",
       "0              1         0           2          1           10           12   \n",
       "1              2         0           2          3           11           13   \n",
       "2              2         0           4          1           10           12   \n",
       "3              2         0           4          1           10           12   \n",
       "4              2         4           2          1            6            6   \n",
       "...          ...       ...         ...        ...          ...          ...   \n",
       "1454           2         3           4          1            5            5   \n",
       "1455           2         4           4          1            5            5   \n",
       "1456           2         0           2          1           10           12   \n",
       "1457           2         0           5          1            6           14   \n",
       "1458           2         0           4          1            6            6   \n",
       "\n",
       "      MasVnrType  Foundation  GarageType  GarageCond  SaleType  SaleCondition  \\\n",
       "0              2           1           1           5         8              4   \n",
       "1              1           1           1           5         8              4   \n",
       "2              2           2           1           5         8              4   \n",
       "3              1           2           1           5         8              4   \n",
       "4              2           2           1           5         8              4   \n",
       "...          ...         ...         ...         ...       ...            ...   \n",
       "1454           2           1           6           3         8              4   \n",
       "1455           2           1           4           5         8              0   \n",
       "1456           2           1           5           5         8              0   \n",
       "1457           2           2           6           3         8              4   \n",
       "1458           1           2           1           5         8              4   \n",
       "\n",
       "      LotFrontage  LotArea  OverallQual  MasVnrArea  ExterQual  BsmtQual  \\\n",
       "0            80.0    11622            5         0.0          3         3   \n",
       "1            81.0    14267            6       108.0          3         3   \n",
       "2            74.0    13830            5         0.0          3         4   \n",
       "3            78.0     9978            6        20.0          3         3   \n",
       "4            43.0     5005            8         0.0          4         4   \n",
       "...           ...      ...          ...         ...        ...       ...   \n",
       "1454         21.0     1936            4         0.0          3         3   \n",
       "1455         21.0     1894            4         0.0          3         3   \n",
       "1456        160.0    20000            5         0.0          3         3   \n",
       "1457         62.0    10441            5         0.0          3         4   \n",
       "1458         74.0     9627            7        94.0          3         4   \n",
       "\n",
       "      TotalBsmtSF  HeatingQC  CentralAir  GrLivArea  KitchenQual  \\\n",
       "0           882.0          3           1        896            3   \n",
       "1          1329.0          3           1       1329            4   \n",
       "2           928.0          4           1       1629            3   \n",
       "3           926.0          5           1       1604            4   \n",
       "4          1280.0          5           1       1280            4   \n",
       "...           ...        ...         ...        ...          ...   \n",
       "1454        546.0          4           1       1092            3   \n",
       "1455        546.0          3           1       1092            3   \n",
       "1456       1224.0          5           1       1224            3   \n",
       "1457        912.0          3           1        970            3   \n",
       "1458        996.0          5           1       2000            3   \n",
       "\n",
       "      TotRmsAbvGrd  FireplaceQu  GarageFinish  GarageCars  GarageQual  \\\n",
       "0                5            0             1         1.0           3   \n",
       "1                6            0             1         1.0           3   \n",
       "2                6            3             3         2.0           3   \n",
       "3                7            4             3         2.0           3   \n",
       "4                5            0             2         2.0           3   \n",
       "...            ...          ...           ...         ...         ...   \n",
       "1454             5            0             0         0.0           0   \n",
       "1455             6            0             1         1.0           3   \n",
       "1456             7            3             1         2.0           3   \n",
       "1457             6            0             0         0.0           0   \n",
       "1458             9            3             3         3.0           3   \n",
       "\n",
       "      Total_OutdoorSF  Baths  Age  AgeRemodAdd  AgeGarage  \n",
       "0                 260    1.0   49           49       49.0  \n",
       "1                 429    2.0   52           52       52.0  \n",
       "2                 246    3.0   13           12       13.0  \n",
       "3                 396    3.0   12           12       12.0  \n",
       "4                 226    2.0   18           18       18.0  \n",
       "...               ...    ...  ...          ...        ...  \n",
       "1454                0    2.0   36           36        0.0  \n",
       "1455               24    2.0   36           36       36.0  \n",
       "1456              474    2.0   46           10       46.0  \n",
       "1457              112    2.0   14           14        0.0  \n",
       "1458              238    3.0   13           12       13.0  \n",
       "\n",
       "[1459 rows x 39 columns]"
      ]
     },
     "execution_count": 30,
     "metadata": {},
     "output_type": "execute_result"
    }
   ],
   "source": [
    "test_undum_df"
   ]
  },
  {
   "cell_type": "code",
   "execution_count": 31,
   "metadata": {
    "ExecuteTime": {
     "end_time": "2021-01-18T23:26:09.621014Z",
     "start_time": "2021-01-18T23:26:09.533Z"
    },
    "run_control": {
     "marked": false
    }
   },
   "outputs": [],
   "source": [
    "#assign predictor and target variables to undummified datasets\n",
    "\n",
    "#assign predictor and target variables\n",
    "yu = train_undum_df['SalePrice'].apply(np.log)\n",
    "Xu = train_undum_df.drop([\"SalePrice\"], axis = 1)\n",
    "\n",
    "#train/test split \n",
    "Xu_train, Xu_test, yu_train, yu_test = train_test_split(Xu, yu, test_size = 0.2, random_state = 42)"
   ]
  },
  {
   "cell_type": "markdown",
   "metadata": {},
   "source": [
    "### First pass fitting"
   ]
  },
  {
   "cell_type": "code",
   "execution_count": 32,
   "metadata": {
    "ExecuteTime": {
     "end_time": "2021-01-18T23:26:09.624757Z",
     "start_time": "2021-01-18T23:26:09.554Z"
    },
    "run_control": {
     "marked": true
    }
   },
   "outputs": [
    {
     "name": "stdout",
     "output_type": "stream",
     "text": [
      "Train R^2 score is: 0.98117\n",
      "Test R^2 score is: 0.87998\n",
      "Train error is: 0.01883\n",
      "Test error is: 0.12002\n",
      "RMSE for train: 0.053584\n",
      "RMSE for test: 0.149655\n"
     ]
    }
   ],
   "source": [
    "rf = RandomForestRegressor(n_estimators=500)\n",
    "rf.fit(Xu_train, yu_train)\n",
    "\n",
    "print(\"Train R^2 score is: %.5f\" % (rf.score(Xu_train, yu_train))) \n",
    "print(\"Test R^2 score is: %.5f\" % (rf.score(Xu_test, yu_test)))\n",
    "print(\"Train error is: %.5f\" % (1 - rf.score(Xu_train, yu_train))) \n",
    "print(\"Test error is: %.5f\" % (1 - rf.score(Xu_test, yu_test)))\n",
    "print(\"RMSE for train: %f\" %np.sqrt(mean_squared_error(rf.predict(Xu_train), yu_train)))\n",
    "print(\"RMSE for test: %f\" %np.sqrt(mean_squared_error(rf.predict(Xu_test), yu_test)))"
   ]
  },
  {
   "cell_type": "code",
   "execution_count": 33,
   "metadata": {
    "ExecuteTime": {
     "end_time": "2021-01-18T23:26:09.626946Z",
     "start_time": "2021-01-18T23:26:09.565Z"
    },
    "scrolled": false
   },
   "outputs": [
    {
     "data": {
      "text/plain": [
       "Text(0, 0.5, 'Predicted Value')"
      ]
     },
     "execution_count": 33,
     "metadata": {},
     "output_type": "execute_result"
    },
    {
     "data": {
      "image/png": "[encoded data removed]",
      "text/plain": [
       "<Figure size 1440x720 with 1 Axes>"
      ]
     },
     "metadata": {},
     "output_type": "display_data"
    }
   ],
   "source": [
    "plt.figure(figsize=(20,10))\n",
    "plt.scatter(x = np.exp(yu_test), y = np.exp(rf.predict(Xu_test)), s = 8, label = \"Test\")\n",
    "plt.scatter(x = np.exp(yu_train), y = np.exp(rf.predict(Xu_train)), s = 8, label = \"Train\")\n",
    "plt.legend(loc = 0)\n",
    "plt.title(\"Predicted Value vs True Value for Random Forest Model\")\n",
    "plt.xlabel(\"True Value\")\n",
    "plt.ylabel(\"Predicted Value\")"
   ]
  },
  {
   "cell_type": "markdown",
   "metadata": {
    "ExecuteTime": {
     "end_time": "2021-01-17T18:47:59.477901Z",
     "start_time": "2021-01-17T18:47:59.474397Z"
    }
   },
   "source": [
    "## Random Forest Grid Search\n",
    "### Randomized Search"
   ]
  },
  {
   "cell_type": "code",
   "execution_count": 120,
   "metadata": {
    "ExecuteTime": {
     "end_time": "2021-01-19T12:50:51.130748Z",
     "start_time": "2021-01-19T12:26:25.147330Z"
    }
   },
   "outputs": [
    {
     "name": "stdout",
     "output_type": "stream",
     "text": [
      "Fitting 5 folds for each of 100 candidates, totalling 500 fits\n"
     ]
    },
    {
     "name": "stderr",
     "output_type": "stream",
     "text": [
      "[Parallel(n_jobs=-1)]: Using backend LokyBackend with 4 concurrent workers.\n",
      "[Parallel(n_jobs=-1)]: Done  33 tasks      | elapsed:  1.7min\n",
      "[Parallel(n_jobs=-1)]: Done 154 tasks      | elapsed:  8.8min\n",
      "[Parallel(n_jobs=-1)]: Done 357 tasks      | elapsed: 19.1min\n",
      "[Parallel(n_jobs=-1)]: Done 500 out of 500 | elapsed: 24.4min finished\n"
     ]
    },
    {
     "name": "stdout",
     "output_type": "stream",
     "text": [
      "CPU times: user 4.73 s, sys: 406 ms, total: 5.14 s\n",
      "Wall time: 24min 25s\n"
     ]
    },
    {
     "data": {
      "text/plain": [
       "RandomizedSearchCV(cv=5, estimator=RandomForestRegressor(), n_iter=100,\n",
       "                   n_jobs=-1,\n",
       "                   param_distributions={'bootstrap': [True, False],\n",
       "                                        'max_depth': [10, 20, 30, 40, 50, 60,\n",
       "                                                      70, 80, 90, 100, 110,\n",
       "                                                      None],\n",
       "                                        'max_features': ['auto', 'sqrt'],\n",
       "                                        'min_samples_leaf': [1, 2, 4],\n",
       "                                        'min_samples_split': [2, 5, 10],\n",
       "                                        'n_estimators': [200, 400, 600, 800,\n",
       "                                                         1000, 1200, 1400, 1600,\n",
       "                                                         1800, 2000]},\n",
       "                   random_state=42, scoring='neg_root_mean_squared_error',\n",
       "                   verbose=2)"
      ]
     },
     "execution_count": 120,
     "metadata": {},
     "output_type": "execute_result"
    }
   ],
   "source": [
    "rf = RandomForestRegressor()\n",
    "\n",
    "from sklearn.model_selection import RandomizedSearchCV\n",
    "\n",
    "# Number of trees in random forest\n",
    "n_estimators = [int(x) for x in np.linspace(start = 200, stop = 2000, num = 10)]\n",
    "# Number of features to consider at every split\n",
    "max_features = ['auto', 'sqrt']\n",
    "# Maximum number of levels in tree\n",
    "max_depth = [int(x) for x in np.linspace(10, 110, num = 11)]\n",
    "max_depth.append(None)\n",
    "# Minimum number of samples required to split a node\n",
    "min_samples_split = [2, 5, 10]\n",
    "# Minimum number of samples required at each leaf node\n",
    "min_samples_leaf = [1, 2, 4]\n",
    "# Method of selecting samples for training each tree\n",
    "bootstrap = [True, False]\n",
    "# Complexity parameter\n",
    "# ccp_alpha=[0.005, 0.015, 0.03]\n",
    "\n",
    "grid_para_forest = {'n_estimators': n_estimators,\n",
    "               'max_features': max_features,\n",
    "               'max_depth': max_depth,\n",
    "               'min_samples_split': min_samples_split,\n",
    "               'min_samples_leaf': min_samples_leaf,\n",
    "               'bootstrap': bootstrap}\n",
    "\n",
    "# run the RF regressor through the grid search\n",
    "grid_search_forest = ms.RandomizedSearchCV(rf, grid_para_forest, n_iter = 100, verbose=3, random_state=42, scoring='neg_root_mean_squared_error', cv=3, n_jobs= -1)\n",
    "# not sure which error metric is best\n",
    "grid_search_forest.fit(Xu_train, yu_train)"
   ]
  },
  {
   "cell_type": "code",
   "execution_count": 121,
   "metadata": {
    "ExecuteTime": {
     "end_time": "2021-01-19T12:50:52.274645Z",
     "start_time": "2021-01-19T12:50:52.266890Z"
    }
   },
   "outputs": [
    {
     "data": {
      "text/plain": [
       "{'n_estimators': 600,\n",
       " 'min_samples_split': 5,\n",
       " 'min_samples_leaf': 1,\n",
       " 'max_features': 'sqrt',\n",
       " 'max_depth': 60,\n",
       " 'bootstrap': False}"
      ]
     },
     "execution_count": 121,
     "metadata": {},
     "output_type": "execute_result"
    }
   ],
   "source": [
    "grid_search_forest.best_params_"
   ]
  },
  {
   "cell_type": "code",
   "execution_count": 122,
   "metadata": {
    "ExecuteTime": {
     "end_time": "2021-01-19T12:50:54.308909Z",
     "start_time": "2021-01-19T12:50:53.331996Z"
    },
    "scrolled": true
   },
   "outputs": [
    {
     "name": "stdout",
     "output_type": "stream",
     "text": [
      "Train R^2 score is: 0.99553\n",
      "Test R^2 score is: 0.87810\n",
      "Train error is: 0.00447\n",
      "Test error is: 0.12190\n",
      "RMSE for train: 0.026105\n",
      "RMSE for test: 0.150826\n"
     ]
    }
   ],
   "source": [
    "print(\"Train R^2 score is: %.5f\" % (grid_search_forest.best_estimator_.score(Xu_train, yu_train))) \n",
    "print(\"Test R^2 score is: %.5f\" % (grid_search_forest.best_estimator_.score(Xu_test, yu_test)))\n",
    "print(\"Train error is: %.5f\" % (1 - grid_search_forest.best_estimator_.score(Xu_train, yu_train))) \n",
    "print(\"Test error is: %.5f\" % (1 - grid_search_forest.best_estimator_.score(Xu_test, yu_test)))\n",
    "print(\"RMSE for train: %f\" %np.sqrt(mean_squared_error(grid_search_forest.best_estimator_.predict(Xu_train), yu_train)))\n",
    "print(\"RMSE for test: %f\" %np.sqrt(mean_squared_error(grid_search_forest.best_estimator_.predict(Xu_test), yu_test)))"
   ]
  },
  {
   "cell_type": "markdown",
   "metadata": {},
   "source": [
    "### Grid Search"
   ]
  },
  {
   "cell_type": "code",
   "execution_count": 34,
   "metadata": {
    "ExecuteTime": {
     "end_time": "2021-01-19T17:46:19.434772Z",
     "start_time": "2021-01-19T17:46:09.260806Z"
    },
    "scrolled": true
   },
   "outputs": [
    {
     "name": "stdout",
     "output_type": "stream",
     "text": [
      "Fitting 5 folds for each of 384 candidates, totalling 1920 fits\n"
     ]
    },
    {
     "name": "stderr",
     "output_type": "stream",
     "text": [
      "[Parallel(n_jobs=-1)]: Using backend LokyBackend with 4 concurrent workers.\n",
      "[Parallel(n_jobs=-1)]: Done  17 tasks      | elapsed:   26.8s\n",
      "[Parallel(n_jobs=-1)]: Done  90 tasks      | elapsed:  1.1min\n",
      "[Parallel(n_jobs=-1)]: Done 213 tasks      | elapsed:  2.7min\n",
      "[Parallel(n_jobs=-1)]: Done 384 tasks      | elapsed:  5.2min\n",
      "[Parallel(n_jobs=-1)]: Done 605 tasks      | elapsed:  8.3min\n",
      "[Parallel(n_jobs=-1)]: Done 874 tasks      | elapsed: 11.7min\n",
      "[Parallel(n_jobs=-1)]: Done 1193 tasks      | elapsed: 17.3min\n",
      "[Parallel(n_jobs=-1)]: Done 1560 tasks      | elapsed: 24.5min\n",
      "[Parallel(n_jobs=-1)]: Done 1920 out of 1920 | elapsed: 31.2min finished\n"
     ]
    },
    {
     "data": {
      "text/plain": [
       "GridSearchCV(cv=5, estimator=RandomForestRegressor(), n_jobs=-1,\n",
       "             param_grid={'bootstrap': [False], 'ccp_alpha': [0.0, 0.02],\n",
       "                         'criterion': ['mse'], 'max_depth': [20, 25, 30],\n",
       "                         'max_features': ['sqrt', 8, 15, 20],\n",
       "                         'max_leaf_nodes': [None], 'max_samples': [None],\n",
       "                         'min_samples_leaf': [1, 2],\n",
       "                         'min_samples_split': [2, 3],\n",
       "                         'n_estimators': [200, 300, 400, 500],\n",
       "                         'random_state': [42]},\n",
       "             scoring='neg_root_mean_squared_error', verbose=4)"
      ]
     },
     "execution_count": 34,
     "metadata": {},
     "output_type": "execute_result"
    }
   ],
   "source": [
    "rf6 = RandomForestRegressor()\n",
    "# set the parameter grid\n",
    "grid_para_forest = {\n",
    "    'criterion': ['mse'],\n",
    "    'min_samples_split': [2,3],\n",
    "    'max_depth': [20,25,30],\n",
    "    'n_estimators': [200,300,400,500],\n",
    "    'min_samples_leaf':[1,2],\n",
    "    'max_leaf_nodes':[None],\n",
    "    'max_samples': [None],\n",
    "    'bootstrap': [False],\n",
    "    'max_features': ['sqrt', 8, 15, 20],\n",
    "    'ccp_alpha': [0.00,0.02],\n",
    "    'random_state' :[42]\n",
    "}\n",
    "\n",
    "# run the RF regressor through the grid search\n",
    "grid_search_forest = ms.GridSearchCV(rf6, grid_para_forest, scoring='neg_root_mean_squared_error', cv=5, n_jobs= -1, verbose=4)\n",
    "grid_search_forest.fit(Xu_train, yu_train)"
   ]
  },
  {
   "cell_type": "code",
   "execution_count": 35,
   "metadata": {
    "ExecuteTime": {
     "end_time": "2021-01-19T12:50:52.274645Z",
     "start_time": "2021-01-19T12:50:52.266890Z"
    }
   },
   "outputs": [
    {
     "data": {
      "text/plain": [
       "{'bootstrap': False,\n",
       " 'ccp_alpha': 0.0,\n",
       " 'criterion': 'mse',\n",
       " 'max_depth': 20,\n",
       " 'max_features': 'sqrt',\n",
       " 'max_leaf_nodes': None,\n",
       " 'max_samples': None,\n",
       " 'min_samples_leaf': 1,\n",
       " 'min_samples_split': 3,\n",
       " 'n_estimators': 500,\n",
       " 'random_state': 42}"
      ]
     },
     "execution_count": 35,
     "metadata": {},
     "output_type": "execute_result"
    }
   ],
   "source": [
    "grid_search_forest.best_params_"
   ]
  },
  {
   "cell_type": "code",
   "execution_count": 36,
   "metadata": {
    "ExecuteTime": {
     "end_time": "2021-01-19T12:50:54.308909Z",
     "start_time": "2021-01-19T12:50:53.331996Z"
    },
    "scrolled": true
   },
   "outputs": [
    {
     "name": "stdout",
     "output_type": "stream",
     "text": [
      "Train R^2 score is: 0.99934\n",
      "Test R^2 score is: 0.87862\n",
      "Train error is: 0.00066\n",
      "Test error is: 0.12138\n",
      "RMSE for train: 0.010002\n",
      "RMSE for test: 0.150505\n"
     ]
    }
   ],
   "source": [
    "print(\"Train R^2 score is: %.5f\" % (grid_search_forest.best_estimator_.score(Xu_train, yu_train))) \n",
    "print(\"Test R^2 score is: %.5f\" % (grid_search_forest.best_estimator_.score(Xu_test, yu_test)))\n",
    "print(\"Train error is: %.5f\" % (1 - grid_search_forest.best_estimator_.score(Xu_train, yu_train))) \n",
    "print(\"Test error is: %.5f\" % (1 - grid_search_forest.best_estimator_.score(Xu_test, yu_test)))\n",
    "print(\"RMSE for train: %f\" %np.sqrt(mean_squared_error(grid_search_forest.best_estimator_.predict(Xu_train), yu_train)))\n",
    "print(\"RMSE for test: %f\" %np.sqrt(mean_squared_error(grid_search_forest.best_estimator_.predict(Xu_test), yu_test)))"
   ]
  },
  {
   "cell_type": "markdown",
   "metadata": {},
   "source": [
    "### Grid search for max_depth only\n",
    "### **** Best fit below ****"
   ]
  },
  {
   "cell_type": "code",
   "execution_count": 41,
   "metadata": {
    "ExecuteTime": {
     "end_time": "2021-01-19T17:46:19.434772Z",
     "start_time": "2021-01-19T17:46:09.260806Z"
    }
   },
   "outputs": [
    {
     "name": "stdout",
     "output_type": "stream",
     "text": [
      "Fitting 5 folds for each of 6 candidates, totalling 30 fits\n"
     ]
    },
    {
     "name": "stderr",
     "output_type": "stream",
     "text": [
      "[Parallel(n_jobs=-1)]: Using backend LokyBackend with 4 concurrent workers.\n",
      "[Parallel(n_jobs=-1)]: Done  17 tasks      | elapsed:    9.8s\n",
      "[Parallel(n_jobs=-1)]: Done  30 out of  30 | elapsed:   17.1s finished\n"
     ]
    },
    {
     "data": {
      "text/plain": [
       "GridSearchCV(cv=5, estimator=RandomForestRegressor(), n_jobs=-1,\n",
       "             param_grid={'bootstrap': [False], 'ccp_alpha': [0.0],\n",
       "                         'criterion': ['mse'], 'max_depth': [4, 5, 6, 7, 8, 10],\n",
       "                         'max_features': [8], 'max_leaf_nodes': [None],\n",
       "                         'max_samples': [None], 'min_samples_leaf': [1],\n",
       "                         'min_samples_split': [2], 'n_estimators': [500],\n",
       "                         'random_state': [42]},\n",
       "             scoring='neg_root_mean_squared_error', verbose=4)"
      ]
     },
     "execution_count": 41,
     "metadata": {},
     "output_type": "execute_result"
    }
   ],
   "source": [
    "rf6 = RandomForestRegressor()\n",
    "# set the parameter grid\n",
    "grid_para_forest = {\n",
    "    'criterion': ['mse'],\n",
    "    'min_samples_split': [2],\n",
    "    'max_depth': [4,5,6,7,8,10],\n",
    "    'n_estimators': [500],\n",
    "    'min_samples_leaf':[1],\n",
    "    'max_leaf_nodes':[None],\n",
    "    'max_samples': [None],\n",
    "    'bootstrap': [False],\n",
    "    'max_features': [8],\n",
    "    'ccp_alpha': [0.00],\n",
    "    'random_state' :[42]\n",
    "}\n",
    "\n",
    "# run the RF regressor through the grid search\n",
    "grid_search_forest = ms.GridSearchCV(rf6, grid_para_forest, scoring='neg_root_mean_squared_error', cv=5, n_jobs= -1, verbose=4)\n",
    "# not sure which error metric is best\n",
    "grid_search_forest.fit(Xu_train, yu_train)"
   ]
  },
  {
   "cell_type": "code",
   "execution_count": 42,
   "metadata": {
    "ExecuteTime": {
     "end_time": "2021-01-19T17:46:20.920096Z",
     "start_time": "2021-01-19T17:46:20.913909Z"
    },
    "run_control": {
     "marked": true
    },
    "scrolled": false
   },
   "outputs": [
    {
     "data": {
      "text/plain": [
       "{'bootstrap': False,\n",
       " 'ccp_alpha': 0.0,\n",
       " 'criterion': 'mse',\n",
       " 'max_depth': 10,\n",
       " 'max_features': 8,\n",
       " 'max_leaf_nodes': None,\n",
       " 'max_samples': None,\n",
       " 'min_samples_leaf': 1,\n",
       " 'min_samples_split': 2,\n",
       " 'n_estimators': 500,\n",
       " 'random_state': 42}"
      ]
     },
     "execution_count": 42,
     "metadata": {},
     "output_type": "execute_result"
    }
   ],
   "source": [
    "grid_search_forest.best_params_"
   ]
  },
  {
   "cell_type": "code",
   "execution_count": 43,
   "metadata": {
    "ExecuteTime": {
     "end_time": "2021-01-20T12:57:27.850216Z",
     "start_time": "2021-01-20T12:57:27.843674Z"
    }
   },
   "outputs": [
    {
     "data": {
      "text/plain": [
       "RandomForestRegressor(bootstrap=False, max_depth=10, max_features=8,\n",
       "                      n_estimators=500, random_state=42)"
      ]
     },
     "execution_count": 43,
     "metadata": {},
     "output_type": "execute_result"
    }
   ],
   "source": [
    "grid_search_forest.best_estimator_"
   ]
  },
  {
   "cell_type": "code",
   "execution_count": 44,
   "metadata": {
    "ExecuteTime": {
     "end_time": "2021-01-19T17:46:23.492030Z",
     "start_time": "2021-01-19T17:46:22.381711Z"
    }
   },
   "outputs": [
    {
     "name": "stdout",
     "output_type": "stream",
     "text": [
      "Train R^2 score is: 0.98933\n",
      "Test R^2 score is: 0.88078\n",
      "Train error is: 0.01067\n",
      "Test error is: 0.11922\n",
      "RMSE for train: 0.040331\n",
      "RMSE for test: 0.149159\n"
     ]
    }
   ],
   "source": [
    "print(\"Train R^2 score is: %.5f\" % (grid_search_forest.best_estimator_.score(Xu_train, yu_train))) \n",
    "print(\"Test R^2 score is: %.5f\" % (grid_search_forest.best_estimator_.score(Xu_test, yu_test)))\n",
    "print(\"Train error is: %.5f\" % (1 - grid_search_forest.best_estimator_.score(Xu_train, yu_train))) \n",
    "print(\"Test error is: %.5f\" % (1 - grid_search_forest.best_estimator_.score(Xu_test, yu_test)))\n",
    "print(\"RMSE for train: %f\" %np.sqrt(mean_squared_error(grid_search_forest.best_estimator_.predict(Xu_train), yu_train)))\n",
    "print(\"RMSE for test: %f\" %np.sqrt(mean_squared_error(grid_search_forest.best_estimator_.predict(Xu_test), yu_test)))"
   ]
  },
  {
   "cell_type": "markdown",
   "metadata": {},
   "source": [
    "### Plot MSE vs Number of trees (n_estimators)"
   ]
  },
  {
   "cell_type": "code",
   "execution_count": 340,
   "metadata": {
    "ExecuteTime": {
     "end_time": "2021-01-20T13:02:05.558439Z",
     "start_time": "2021-01-20T12:59:21.528294Z"
    }
   },
   "outputs": [],
   "source": [
    "rf = RandomForestRegressor(n_estimators=1)\n",
    "mse_train=[]\n",
    "mse_test=[]\n",
    "for iter in range(50):\n",
    "    rf.fit(Xu_train, yu_train)\n",
    "    yu_train_predicted = rf.predict(Xu_train)\n",
    "    yu_test_predicted = rf.predict(Xu_test)\n",
    "    mse_train.append( mean_squared_error(yu_train, yu_train_predicted))\n",
    "    mse_test.append( mean_squared_error(yu_test, yu_test_predicted))\n",
    "    rf.n_estimators += 10\n",
    "    "
   ]
  },
  {
   "cell_type": "code",
   "execution_count": 344,
   "metadata": {
    "ExecuteTime": {
     "end_time": "2021-01-20T13:04:56.864980Z",
     "start_time": "2021-01-20T13:04:56.320033Z"
    },
    "scrolled": true
   },
   "outputs": [
    {
     "data": {
      "image/png": "[encoded data removed]",
      "text/plain": [
       "<Figure size 1440x720 with 1 Axes>"
      ]
     },
     "metadata": {},
     "output_type": "display_data"
    }
   ],
   "source": [
    "plt.plot(range(0,500,10), mse_train, c='red', label='training error')\n",
    "plt.plot(range(0,500,10), mse_test, c='blue', label='test error')\n",
    "plt.ylabel('MSE')\n",
    "plt.xlabel('Number of trees (n_estimators)')\n",
    "plt.legend()\n",
    "plt.show()"
   ]
  },
  {
   "cell_type": "markdown",
   "metadata": {},
   "source": [
    "### Plot MSE vs max_depth of trees"
   ]
  },
  {
   "cell_type": "code",
   "execution_count": 345,
   "metadata": {
    "ExecuteTime": {
     "end_time": "2021-01-20T13:19:57.091263Z",
     "start_time": "2021-01-20T13:17:33.448488Z"
    }
   },
   "outputs": [],
   "source": [
    "rf = RandomForestRegressor(bootstrap=False, max_depth=1, max_features=8,\n",
    "                      n_estimators=500, random_state=42, min_samples_leaf= 1, min_samples_split= 2)\n",
    "mse_train=[]\n",
    "mse_test=[]\n",
    "for iter in range(50):\n",
    "    rf.fit(Xu_train, yu_train)\n",
    "    yu_train_predicted = rf.predict(Xu_train)\n",
    "    yu_test_predicted = rf.predict(Xu_test)\n",
    "    mse_train.append( mean_squared_error(yu_train, yu_train_predicted))\n",
    "    mse_test.append( mean_squared_error(yu_test, yu_test_predicted))\n",
    "    rf.max_depth += 1\n",
    "    "
   ]
  },
  {
   "cell_type": "code",
   "execution_count": 346,
   "metadata": {
    "ExecuteTime": {
     "end_time": "2021-01-20T13:20:00.111091Z",
     "start_time": "2021-01-20T13:19:59.648906Z"
    },
    "scrolled": true
   },
   "outputs": [
    {
     "data": {
      "image/png": "[encoded data removed]",
      "text/plain": [
       "<Figure size 1440x720 with 1 Axes>"
      ]
     },
     "metadata": {},
     "output_type": "display_data"
    }
   ],
   "source": [
    "plt.plot(range(0,50), mse_train, c='red', label='training error')\n",
    "plt.plot(range(0,50), mse_test, c='blue', label='test error')\n",
    "plt.ylabel('MSE')\n",
    "plt.xlabel('Max_depth')\n",
    "plt.legend()\n",
    "plt.show()"
   ]
  },
  {
   "cell_type": "code",
   "execution_count": null,
   "metadata": {
    "ExecuteTime": {
     "end_time": "2021-01-19T15:22:53.414192Z",
     "start_time": "2021-01-19T15:22:53.401819Z"
    }
   },
   "outputs": [],
   "source": []
  },
  {
   "cell_type": "markdown",
   "metadata": {},
   "source": [
    "## XGBOOST\n",
    "### First pass fitting"
   ]
  },
  {
   "cell_type": "code",
   "execution_count": 217,
   "metadata": {
    "ExecuteTime": {
     "end_time": "2021-01-19T22:56:46.325238Z",
     "start_time": "2021-01-19T22:56:41.757252Z"
    }
   },
   "outputs": [],
   "source": [
    "import xgboost as xgb"
   ]
  },
  {
   "cell_type": "code",
   "execution_count": 219,
   "metadata": {
    "ExecuteTime": {
     "end_time": "2021-01-19T22:57:31.598558Z",
     "start_time": "2021-01-19T22:57:31.036059Z"
    }
   },
   "outputs": [
    {
     "name": "stdout",
     "output_type": "stream",
     "text": [
      "Train R^2 score is: 0.99920\n",
      "Test R^2 score is: 0.88700\n",
      "Train error is: 0.00080\n",
      "Test error is: 0.11300\n",
      "RMSE for train: 0.011021\n",
      "RMSE for test: 0.145215\n"
     ]
    }
   ],
   "source": [
    "xmodel=xgb.XGBRegressor(random_state=1)\n",
    "xmodel.fit(Xu_train, yu_train)\n",
    "\n",
    "print(\"Train R^2 score is: %.5f\" % (xmodel.score(Xu_train, yu_train))) \n",
    "print(\"Test R^2 score is: %.5f\" % (xmodel.score(Xu_test, yu_test)))\n",
    "print(\"Train error is: %.5f\" % (1 - xmodel.score(Xu_train, yu_train))) \n",
    "print(\"Test error is: %.5f\" % (1 - xmodel.score(Xu_test, yu_test)))\n",
    "print(\"RMSE for train: %f\" %np.sqrt(mean_squared_error(xmodel.predict(Xu_train), yu_train)))\n",
    "print(\"RMSE for test: %f\" %np.sqrt(mean_squared_error(xmodel.predict(Xu_test), yu_test)))"
   ]
  },
  {
   "cell_type": "markdown",
   "metadata": {},
   "source": [
    "### Plot R^2 vs Number of trees (n_estimators)"
   ]
  },
  {
   "cell_type": "code",
   "execution_count": 318,
   "metadata": {
    "ExecuteTime": {
     "end_time": "2021-01-20T12:37:46.087398Z",
     "start_time": "2021-01-20T12:37:16.026710Z"
    },
    "scrolled": false
   },
   "outputs": [
    {
     "name": "stdout",
     "output_type": "stream",
     "text": [
      "n_estimators= 100.000000\n",
      "n_estimators= 200.000000\n",
      "n_estimators= 300.000000\n",
      "n_estimators= 400.000000\n"
     ]
    }
   ],
   "source": [
    "xmodel=xgb.XGBRegressor()\n",
    "# para =(base_score=0.5, booster='gbtree', colsample_bylevel=1,\n",
    "#              colsample_bynode=1, colsample_bytree=0.5, gamma=0, gpu_id=-1,\n",
    "#              importance_type='gain', interaction_constraints='',\n",
    "#              learning_rate=0.1, max_delta_step=0, max_depth=5,\n",
    "#              min_child_weight=1, missing=nan, monotone_constraints='()',\n",
    "#              n_estimators=i, n_jobs=-1, nthread=-1, num_parallel_tree=1,\n",
    "#              random_state=1, reg_alpha=0.1, reg_lambda=1, scale_pos_weight=1,\n",
    "#              subsample=0.5, tree_method='exact', validate_parameters=1,\n",
    "#              verbosity=None)\n",
    "\n",
    "train_score=[]\n",
    "test_score=[]\n",
    "ne = range(50, 500, 10)\n",
    "\n",
    "for i in ne:\n",
    "    if i%100==0: print('n_estimators= %0f'%i)\n",
    "    xmodel.set_params(base_score=0.5, booster='gbtree', colsample_bylevel=1,\n",
    "             colsample_bynode=1, colsample_bytree=0.5, gamma=0, gpu_id=-1,\n",
    "             importance_type='gain', interaction_constraints='',\n",
    "             learning_rate=0.1, max_delta_step=0, max_depth=5,\n",
    "             min_child_weight=1,\n",
    "             n_estimators=i, n_jobs=-1, nthread=-1, num_parallel_tree=1,\n",
    "             random_state=1, reg_alpha=0.1, reg_lambda=1, scale_pos_weight=1,\n",
    "             subsample=0.5, tree_method='exact', validate_parameters=1,\n",
    "             verbosity=1)\n",
    "    xmodel.fit(Xu_train, yu_train)\n",
    "    train_score.append(xmodel.score(Xu_train, yu_train))\n",
    "    test_score.append(xmodel.score(Xu_test, yu_test))\n"
   ]
  },
  {
   "cell_type": "code",
   "execution_count": 337,
   "metadata": {
    "ExecuteTime": {
     "end_time": "2021-01-20T12:50:44.076975Z",
     "start_time": "2021-01-20T12:50:43.566963Z"
    },
    "scrolled": true
   },
   "outputs": [
    {
     "data": {
      "text/plain": [
       "<Figure size 1440x720 with 0 Axes>"
      ]
     },
     "metadata": {},
     "output_type": "display_data"
    },
    {
     "data": {
      "image/png": "[encoded data removed]",
      "text/plain": [
       "<Figure size 1440x720 with 1 Axes>"
      ]
     },
     "metadata": {},
     "output_type": "display_data"
    }
   ],
   "source": [
    "scores_=pd.DataFrame({'n_estimators':ne,'train':train_score, 'test':test_score})\n",
    "plt.figure()\n",
    "scores_.plot(x='n_estimators')\n",
    "plt.axvline(x=150, linewidth=1, color='r')\n",
    "plt.show()"
   ]
  },
  {
   "cell_type": "markdown",
   "metadata": {},
   "source": [
    "### Randomized search"
   ]
  },
  {
   "cell_type": "code",
   "execution_count": 240,
   "metadata": {
    "ExecuteTime": {
     "end_time": "2021-01-20T01:24:14.757492Z",
     "start_time": "2021-01-20T01:23:53.069315Z"
    },
    "scrolled": true
   },
   "outputs": [
    {
     "name": "stdout",
     "output_type": "stream",
     "text": [
      "Fitting 3 folds for each of 200 candidates, totalling 600 fits\n"
     ]
    },
    {
     "name": "stderr",
     "output_type": "stream",
     "text": [
      "[Parallel(n_jobs=-1)]: Using backend LokyBackend with 4 concurrent workers.\n",
      "[Parallel(n_jobs=-1)]: Done  17 tasks      | elapsed:    6.0s\n",
      "[Parallel(n_jobs=-1)]: Done 200 tasks      | elapsed:   12.2s\n",
      "[Parallel(n_jobs=-1)]: Done 600 out of 600 | elapsed:   21.2s finished\n"
     ]
    },
    {
     "data": {
      "text/plain": [
       "RandomizedSearchCV(cv=3,\n",
       "                   estimator=XGBRegressor(base_score=None, booster=None,\n",
       "                                          colsample_bylevel=None,\n",
       "                                          colsample_bynode=None,\n",
       "                                          colsample_bytree=None, gamma=None,\n",
       "                                          gpu_id=None, importance_type='gain',\n",
       "                                          interaction_constraints=None,\n",
       "                                          learning_rate=None,\n",
       "                                          max_delta_step=None, max_depth=None,\n",
       "                                          min_child_weight=None, missing=nan,\n",
       "                                          monotone_constraints=None,\n",
       "                                          n_estimators=100, n...\n",
       "                                        'max_depth': <scipy.stats._distn_infrastructure.rv_frozen object at 0x16fe4a8b0>,\n",
       "                                        'min_child_weight': <scipy.stats._distn_infrastructure.rv_frozen object at 0x16f319550>,\n",
       "                                        'n_estimators': <scipy.stats._distn_infrastructure.rv_frozen object at 0x16f427a30>,\n",
       "                                        'random_state': [1],\n",
       "                                        'subsample': <scipy.stats._distn_infrastructure.rv_frozen object at 0x16f478970>},\n",
       "                   scoring='neg_root_mean_squared_error', verbose=4)"
      ]
     },
     "execution_count": 240,
     "metadata": {},
     "output_type": "execute_result"
    }
   ],
   "source": [
    "xmodel=xgb.XGBRegressor(nthread= -1)\n",
    "# set the parameter grid\n",
    "grid_para = {'min_child_weight': randint(1, 6), # default = 1\n",
    "             'gamma': uniform(0, 0.5), # default = 0\n",
    "             \"learning_rate\": uniform(0, 1), #  default=0.3\n",
    "             'subsample': uniform(0.2, 1.0), # default =1 \n",
    "             'colsample_bytree': uniform(0.5, 1.0), # default =1 \n",
    "             'max_depth': randint(2, 6), # default =6\n",
    "             \"n_estimators\": randint(100, 150),\n",
    "             'random_state' :[1]\n",
    "}\n",
    "\n",
    "# run the RF regressor through the search\n",
    "grid_search_xmodel = ms.RandomizedSearchCV(xmodel, grid_para, scoring='neg_root_mean_squared_error', n_iter=200, cv=3, n_jobs= -1, verbose=4)\n",
    "grid_search_xmodel.fit(Xu_train, yu_train)"
   ]
  },
  {
   "cell_type": "code",
   "execution_count": 241,
   "metadata": {
    "ExecuteTime": {
     "end_time": "2021-01-20T01:24:23.485566Z",
     "start_time": "2021-01-20T01:24:23.478323Z"
    }
   },
   "outputs": [
    {
     "data": {
      "text/plain": [
       "{'colsample_bytree': 0.5068372986822091,\n",
       " 'gamma': 0.05531579866610942,\n",
       " 'learning_rate': 0.07756296308864119,\n",
       " 'max_depth': 3,\n",
       " 'min_child_weight': 1,\n",
       " 'n_estimators': 137,\n",
       " 'random_state': 1,\n",
       " 'subsample': 0.305869643423303}"
      ]
     },
     "execution_count": 241,
     "metadata": {},
     "output_type": "execute_result"
    }
   ],
   "source": [
    "grid_search_xmodel.best_params_"
   ]
  },
  {
   "cell_type": "code",
   "execution_count": 242,
   "metadata": {
    "ExecuteTime": {
     "end_time": "2021-01-20T01:24:26.394288Z",
     "start_time": "2021-01-20T01:24:26.335305Z"
    }
   },
   "outputs": [
    {
     "name": "stdout",
     "output_type": "stream",
     "text": [
      "Train R^2 score is: 0.92524\n",
      "Test R^2 score is: 0.90460\n",
      "Train error is: 0.07476\n",
      "Test error is: 0.09540\n",
      "RMSE for train: 0.106753\n",
      "RMSE for test: 0.133431\n"
     ]
    }
   ],
   "source": [
    "print(\"Train R^2 score is: %.5f\" % (grid_search_xmodel.best_estimator_.score(Xu_train, yu_train))) \n",
    "print(\"Test R^2 score is: %.5f\" % (grid_search_xmodel.best_estimator_.score(Xu_test, yu_test)))\n",
    "print(\"Train error is: %.5f\" % (1 - grid_search_xmodel.best_estimator_.score(Xu_train, yu_train))) \n",
    "print(\"Test error is: %.5f\" % (1 - grid_search_xmodel.best_estimator_.score(Xu_test, yu_test)))\n",
    "print(\"RMSE for train: %f\" %np.sqrt(mean_squared_error(grid_search_xmodel.best_estimator_.predict(Xu_train), yu_train)))\n",
    "print(\"RMSE for test: %f\" %np.sqrt(mean_squared_error(grid_search_xmodel.best_estimator_.predict(Xu_test), yu_test)))"
   ]
  },
  {
   "cell_type": "markdown",
   "metadata": {},
   "source": [
    "### Grid Search\n",
    "### **** Best fit below ****"
   ]
  },
  {
   "cell_type": "code",
   "execution_count": 16,
   "metadata": {
    "ExecuteTime": {
     "end_time": "2021-01-20T01:31:10.886281Z",
     "start_time": "2021-01-20T01:30:32.314778Z"
    },
    "scrolled": true
   },
   "outputs": [
    {
     "name": "stdout",
     "output_type": "stream",
     "text": [
      "Fitting 5 folds for each of 2592 candidates, totalling 12960 fits\n"
     ]
    },
    {
     "name": "stderr",
     "output_type": "stream",
     "text": [
      "[Parallel(n_jobs=-1)]: Using backend LokyBackend with 4 concurrent workers.\n",
      "[Parallel(n_jobs=-1)]: Done  17 tasks      | elapsed:    6.2s\n",
      "[Parallel(n_jobs=-1)]: Done  90 tasks      | elapsed:    9.9s\n",
      "[Parallel(n_jobs=-1)]: Done 213 tasks      | elapsed:   16.1s\n",
      "[Parallel(n_jobs=-1)]: Done 384 tasks      | elapsed:   24.9s\n",
      "[Parallel(n_jobs=-1)]: Done 605 tasks      | elapsed:   35.6s\n",
      "[Parallel(n_jobs=-1)]: Done 874 tasks      | elapsed:   51.7s\n",
      "[Parallel(n_jobs=-1)]: Done 1193 tasks      | elapsed:  1.2min\n",
      "[Parallel(n_jobs=-1)]: Done 1560 tasks      | elapsed:  1.5min\n",
      "[Parallel(n_jobs=-1)]: Done 1977 tasks      | elapsed:  1.8min\n",
      "[Parallel(n_jobs=-1)]: Done 2442 tasks      | elapsed:  2.2min\n",
      "[Parallel(n_jobs=-1)]: Done 2957 tasks      | elapsed:  2.7min\n",
      "[Parallel(n_jobs=-1)]: Done 3520 tasks      | elapsed:  3.2min\n",
      "[Parallel(n_jobs=-1)]: Done 4133 tasks      | elapsed:  3.7min\n",
      "[Parallel(n_jobs=-1)]: Done 4794 tasks      | elapsed:  4.3min\n",
      "[Parallel(n_jobs=-1)]: Done 5505 tasks      | elapsed:  5.0min\n",
      "[Parallel(n_jobs=-1)]: Done 6264 tasks      | elapsed:  5.7min\n",
      "[Parallel(n_jobs=-1)]: Done 7073 tasks      | elapsed:  6.4min\n",
      "[Parallel(n_jobs=-1)]: Done 7930 tasks      | elapsed:  7.3min\n",
      "[Parallel(n_jobs=-1)]: Done 8837 tasks      | elapsed:  8.2min\n",
      "[Parallel(n_jobs=-1)]: Done 9792 tasks      | elapsed:  9.2min\n",
      "[Parallel(n_jobs=-1)]: Done 10797 tasks      | elapsed: 10.2min\n",
      "[Parallel(n_jobs=-1)]: Done 11850 tasks      | elapsed: 11.3min\n",
      "[Parallel(n_jobs=-1)]: Done 12953 tasks      | elapsed: 12.5min\n",
      "[Parallel(n_jobs=-1)]: Done 12960 out of 12960 | elapsed: 12.5min finished\n"
     ]
    },
    {
     "data": {
      "text/plain": [
       "GridSearchCV(cv=5,\n",
       "             estimator=XGBRegressor(base_score=None, booster=None,\n",
       "                                    colsample_bylevel=None,\n",
       "                                    colsample_bynode=None,\n",
       "                                    colsample_bytree=None, gamma=None,\n",
       "                                    gpu_id=-1, importance_type='gain',\n",
       "                                    interaction_constraints=None,\n",
       "                                    learning_rate=None, max_delta_step=None,\n",
       "                                    max_depth=None, min_child_weight=None,\n",
       "                                    missing=nan, monotone_constraints=None,\n",
       "                                    n_estimators=100, n_jobs=No...\n",
       "                                    tree_method=None, validate_parameters=None,\n",
       "                                    verbosity=None),\n",
       "             n_jobs=-1,\n",
       "             param_grid={'colsample_bytree': [0.4, 0.5, 0.6],\n",
       "                         'gamma': [0, 0.025, 0.055, 0.075],\n",
       "                         'learning_rate': [0.05, 0.078, 0.1],\n",
       "                         'max_depth': [2, 3, 4], 'min_child_weight': [1, 2],\n",
       "                         'n_estimators': [100, 125, 137, 150],\n",
       "                         'random_state': [1], 'reg_alpha': [0],\n",
       "                         'subsample': [0.2, 0.3, 0.4]},\n",
       "             scoring='neg_root_mean_squared_error', verbose=4)"
      ]
     },
     "execution_count": 16,
     "metadata": {},
     "output_type": "execute_result"
    }
   ],
   "source": [
    "xmodel=xgb.XGBRegressor(nthread= -1,gpu_id=-1)\n",
    "# set the parameter grid\n",
    "grid_para = {'min_child_weight': [1,2], # default = 1\n",
    "             'gamma': [0, 0.025, 0.055, 0.075], # default = 0\n",
    "             'reg_alpha': [0], # default = 0\n",
    "             \"learning_rate\": [0.05, 0.078, 0.1], #  default=0.3\n",
    "             'subsample': [0.2,0.3,0.4], # default =1 \n",
    "             'colsample_bytree': [0.4, 0.5, 0.6], # default =1 \n",
    "             'max_depth': [2,3,4], # default =6\n",
    "             \"n_estimators\": [100,125,137,150],\n",
    "             'random_state' :[1]\n",
    "}\n",
    "\n",
    "# run the XGB regressor through the grid search\n",
    "grid_search_xmodel = ms.GridSearchCV(xmodel, grid_para, scoring='neg_root_mean_squared_error', cv=5, n_jobs= -1, verbose=4)\n",
    "grid_search_xmodel.fit(Xu_train, yu_train)"
   ]
  },
  {
   "cell_type": "code",
   "execution_count": 17,
   "metadata": {
    "ExecuteTime": {
     "end_time": "2021-01-20T01:31:12.648278Z",
     "start_time": "2021-01-20T01:31:12.640772Z"
    }
   },
   "outputs": [
    {
     "data": {
      "text/plain": [
       "{'colsample_bytree': 0.6,\n",
       " 'gamma': 0.055,\n",
       " 'learning_rate': 0.078,\n",
       " 'max_depth': 4,\n",
       " 'min_child_weight': 1,\n",
       " 'n_estimators': 150,\n",
       " 'random_state': 1,\n",
       " 'reg_alpha': 0,\n",
       " 'subsample': 0.3}"
      ]
     },
     "execution_count": 17,
     "metadata": {},
     "output_type": "execute_result"
    }
   ],
   "source": [
    "grid_search_xmodel.best_params_"
   ]
  },
  {
   "cell_type": "code",
   "execution_count": 18,
   "metadata": {
    "ExecuteTime": {
     "end_time": "2021-01-20T01:31:16.169695Z",
     "start_time": "2021-01-20T01:31:16.109012Z"
    }
   },
   "outputs": [
    {
     "name": "stdout",
     "output_type": "stream",
     "text": [
      "Train R^2 score is: 0.93997\n",
      "Test R^2 score is: 0.90835\n",
      "Train error is: 0.06003\n",
      "Test error is: 0.09165\n",
      "RMSE for train: 0.095659\n",
      "RMSE for test: 0.130780\n"
     ]
    }
   ],
   "source": [
    "print(\"Train R^2 score is: %.5f\" % (grid_search_xmodel.best_estimator_.score(Xu_train, yu_train))) \n",
    "print(\"Test R^2 score is: %.5f\" % (grid_search_xmodel.best_estimator_.score(Xu_test, yu_test)))\n",
    "print(\"Train error is: %.5f\" % (1 - grid_search_xmodel.best_estimator_.score(Xu_train, yu_train))) \n",
    "print(\"Test error is: %.5f\" % (1 - grid_search_xmodel.best_estimator_.score(Xu_test, yu_test)))\n",
    "print(\"RMSE for train: %f\" %np.sqrt(mean_squared_error(grid_search_xmodel.best_estimator_.predict(Xu_train), yu_train)))\n",
    "print(\"RMSE for test: %f\" %np.sqrt(mean_squared_error(grid_search_xmodel.best_estimator_.predict(Xu_test), yu_test)))"
   ]
  },
  {
   "cell_type": "code",
   "execution_count": null,
   "metadata": {},
   "outputs": [],
   "source": []
  }
 ],
 "metadata": {
  "kernelspec": {
   "display_name": "Python 3",
   "language": "python",
   "name": "python3"
  },
  "language_info": {
   "codemirror_mode": {
    "name": "ipython",
    "version": 3
   },
   "file_extension": ".py",
   "mimetype": "text/x-python",
   "name": "python",
   "nbconvert_exporter": "python",
   "pygments_lexer": "ipython3",
   "version": "3.8.3"
  },
  "toc": {
   "base_numbering": 1,
   "nav_menu": {},
   "number_sections": true,
   "sideBar": true,
   "skip_h1_title": false,
   "title_cell": "Table of Contents",
   "title_sidebar": "Contents",
   "toc_cell": true,
   "toc_position": {},
   "toc_section_display": true,
   "toc_window_display": false
  },
  "varInspector": {
   "cols": {
    "lenName": 16,
    "lenType": 16,
    "lenVar": 40
   },
   "kernels_config": {
    "python": {
     "delete_cmd_postfix": "",
     "delete_cmd_prefix": "del ",
     "library": "var_list.py",
     "varRefreshCmd": "print(var_dic_list())"
    },
    "r": {
     "delete_cmd_postfix": ") ",
     "delete_cmd_prefix": "rm(",
     "library": "var_list.r",
     "varRefreshCmd": "cat(var_dic_list()) "
    }
   },
   "types_to_exclude": [
    "module",
    "function",
    "builtin_function_or_method",
    "instance",
    "_Feature"
   ],
   "window_display": false
  }
 },
 "nbformat": 4,
 "nbformat_minor": 4
}
