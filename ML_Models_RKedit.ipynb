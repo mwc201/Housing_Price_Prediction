{
 "cells": [
  {
   "cell_type": "markdown",
   "metadata": {
    "toc": true
   },
   "source": [
    "<h1>Table of Contents<span class=\"tocSkip\"></span></h1>\n",
    "<div class=\"toc\"><ul class=\"toc-item\"><li><span><a href=\"#Import-Libraries\" data-toc-modified-id=\"Import-Libraries-1\"><span class=\"toc-item-num\">1&nbsp;&nbsp;</span>Import Libraries</a></span></li><li><span><a href=\"#Pre-Processing-for-modeling\" data-toc-modified-id=\"Pre-Processing-for-modeling-2\"><span class=\"toc-item-num\">2&nbsp;&nbsp;</span>Pre-Processing for modeling</a></span></li><li><span><a href=\"#Machine-Learning-Modeling\" data-toc-modified-id=\"Machine-Learning-Modeling-3\"><span class=\"toc-item-num\">3&nbsp;&nbsp;</span>Machine Learning Modeling</a></span><ul class=\"toc-item\"><li><ul class=\"toc-item\"><li><span><a href=\"#Multiple-Linear-Regression\" data-toc-modified-id=\"Multiple-Linear-Regression-3.0.1\"><span class=\"toc-item-num\">3.0.1&nbsp;&nbsp;</span>Multiple Linear Regression</a></span></li></ul></li></ul></li></ul></div>"
   ]
  },
  {
   "cell_type": "markdown",
   "metadata": {},
   "source": [
    "# Import Libraries"
   ]
  },
  {
   "cell_type": "code",
   "execution_count": 2,
   "metadata": {
    "ExecuteTime": {
     "end_time": "2020-12-30T18:42:11.389691Z",
     "start_time": "2020-12-30T18:42:11.375821Z"
    }
   },
   "outputs": [],
   "source": [
    "import pandas as pd\n",
    "import numpy as np\n",
    "from matplotlib import pyplot as plt\n",
    "import seaborn as sns\n",
    "%matplotlib inline\n",
    "plt.rcParams['figure.figsize'] = (9, 6)\n",
    "sns.set(style = \"whitegrid\")\n",
    "pd.set_option('display.max_columns', 500)\n",
    "pd.set_option('display.max_rows', 500)\n",
    "\n",
    "from sklearn.linear_model import LinearRegression, Ridge, RidgeCV, Lasso, LassoCV\n",
    "from sklearn.ensemble import RandomForestRegressor, GradientBoostingRegressor\n",
    "from sklearn.model_selection import train_test_split, GridSearchCV\n",
    "from sklearn.preprocessing import OrdinalEncoder, OneHotEncoder\n",
    "\n",
    "#import PreProcessing as preprocess"
   ]
  },
  {
   "cell_type": "markdown",
   "metadata": {},
   "source": [
    "# Pre-Processing for modeling"
   ]
  },
  {
   "cell_type": "code",
   "execution_count": 13,
   "metadata": {
    "ExecuteTime": {
     "end_time": "2020-12-30T19:01:31.674013Z",
     "start_time": "2020-12-30T19:01:31.524369Z"
    }
   },
   "outputs": [],
   "source": [
    "train_undum_df = pd.read_csv('./Data/train_undum_df.csv')\n",
    "test_undum_df = pd.read_csv('./Data/test_undum_df.csv')\n",
    "train_dum_df = pd.read_csv('./Data/train_dum_df.csv')\n",
    "test_dum_df = pd.read_csv('./Data/test_dum_df.csv')\n",
    "\n",
    "train_dum_df = train_dum_df.drop(\"Unnamed: 0\", axis = 1) # drop stupid duplicated index column"
   ]
  },
  {
   "cell_type": "code",
   "execution_count": 15,
   "metadata": {
    "ExecuteTime": {
     "end_time": "2020-12-30T19:02:05.205914Z",
     "start_time": "2020-12-30T19:02:05.197151Z"
    }
   },
   "outputs": [],
   "source": [
    "#assign predictor and target variables\n",
    "y = train_dum_df['SalePrice'].apply(np.log)\n",
    "X = train_dum_df.drop(\"SalePrice\", axis = 1)"
   ]
  },
  {
   "cell_type": "code",
   "execution_count": 16,
   "metadata": {
    "ExecuteTime": {
     "end_time": "2020-12-30T19:02:08.011716Z",
     "start_time": "2020-12-30T19:02:07.997857Z"
    }
   },
   "outputs": [],
   "source": [
    "#train/test split \n",
    "X_train, X_test, y_train, y_test = train_test_split(X, y, test_size = 0.2, random_state = 42)"
   ]
  },
  {
   "cell_type": "markdown",
   "metadata": {},
   "source": [
    "# Machine Learning Modeling\n",
    "###    Multiple Linear Regression"
   ]
  },
  {
   "cell_type": "code",
   "execution_count": 17,
   "metadata": {
    "ExecuteTime": {
     "end_time": "2020-12-30T19:02:11.270355Z",
     "start_time": "2020-12-30T19:02:11.229171Z"
    }
   },
   "outputs": [
    {
     "data": {
      "text/plain": [
       "0.907867730051274"
      ]
     },
     "execution_count": 17,
     "metadata": {},
     "output_type": "execute_result"
    }
   ],
   "source": [
    "lm = LinearRegression()\n",
    "lm.fit(X_train, y_train)\n",
    "lm.score(X_train, y_train)\n",
    "# 0.907867730051274"
   ]
  },
  {
   "cell_type": "code",
   "execution_count": 18,
   "metadata": {
    "ExecuteTime": {
     "end_time": "2020-12-30T19:02:33.061278Z",
     "start_time": "2020-12-30T19:02:33.029846Z"
    }
   },
   "outputs": [
    {
     "data": {
      "text/plain": [
       "0.9684120913296064"
      ]
     },
     "execution_count": 18,
     "metadata": {},
     "output_type": "execute_result"
    }
   ],
   "source": [
    "lm2 = LinearRegression()\n",
    "lm2.fit(X_test, y_test)\n",
    "lm2.score(X_test, y_test)\n",
    "# 0.9684120913296064  # model is underfit"
   ]
  },
  {
   "cell_type": "code",
   "execution_count": 21,
   "metadata": {
    "ExecuteTime": {
     "end_time": "2020-12-30T19:03:50.858774Z",
     "start_time": "2020-12-30T19:03:50.846669Z"
    }
   },
   "outputs": [
    {
     "name": "stdout",
     "output_type": "stream",
     "text": [
      "The intercept is  9.865021857422688\n"
     ]
    },
    {
     "data": {
      "text/plain": [
       "MSSubClass_30           -0.111821\n",
       "MSSubClass_40            0.044645\n",
       "MSSubClass_45           -0.099473\n",
       "MSSubClass_50            0.059075\n",
       "MSSubClass_60           -0.022215\n",
       "MSSubClass_70            0.044345\n",
       "MSSubClass_75            0.028310\n",
       "MSSubClass_80           -0.003059\n",
       "MSSubClass_85            0.047538\n",
       "MSSubClass_90           -0.034292\n",
       "MSSubClass_120          -0.045739\n",
       "MSSubClass_160          -0.119682\n",
       "MSSubClass_180          -0.019619\n",
       "MSSubClass_190          -0.049707\n",
       "MSZoning_FV              0.318826\n",
       "MSZoning_RH              0.339884\n",
       "MSZoning_RL              0.281601\n",
       "MSZoning_RM              0.265720\n",
       "LotShape_IR2             0.047624\n",
       "LotShape_IR3            -0.064417\n",
       "LotShape_Reg             0.001872\n",
       "LandContour_HLS          0.113972\n",
       "LandContour_Low          0.068938\n",
       "LandContour_Lvl          0.069036\n",
       "LotConfig_CulDSac        0.025933\n",
       "LotConfig_FR2           -0.051608\n",
       "LotConfig_FR3           -0.125008\n",
       "LotConfig_Inside        -0.017370\n",
       "Neighborhood_Blueste    -0.044396\n",
       "Neighborhood_BrDale     -0.053678\n",
       "Neighborhood_BrkSide     0.014598\n",
       "Neighborhood_ClearCr     0.058945\n",
       "Neighborhood_CollgCr     0.000960\n",
       "Neighborhood_Crawfor     0.108593\n",
       "Neighborhood_Edwards    -0.085419\n",
       "Neighborhood_Gilbert    -0.038591\n",
       "Neighborhood_IDOTRR     -0.026074\n",
       "Neighborhood_MeadowV    -0.155248\n",
       "Neighborhood_Mitchel    -0.041600\n",
       "Neighborhood_NAmes      -0.028808\n",
       "Neighborhood_NPkVill     0.027583\n",
       "Neighborhood_NWAmes     -0.039309\n",
       "Neighborhood_NoRidge     0.108992\n",
       "Neighborhood_NridgHt     0.146167\n",
       "Neighborhood_OldTown    -0.061705\n",
       "Neighborhood_SWISU      -0.012666\n",
       "Neighborhood_Sawyer     -0.029722\n",
       "Neighborhood_SawyerW    -0.025611\n",
       "Neighborhood_Somerst     0.027569\n",
       "Neighborhood_StoneBr     0.177972\n",
       "Neighborhood_Timber      0.006586\n",
       "Neighborhood_Veenker     0.119853\n",
       "Condition1_Feedr         0.022739\n",
       "Condition1_Norm          0.077317\n",
       "Condition1_PosA          0.082158\n",
       "Condition1_PosN          0.031951\n",
       "Condition1_RRAe         -0.025312\n",
       "Condition1_RRAn          0.077430\n",
       "Condition1_RRNe          0.091991\n",
       "Condition1_RRNn          0.086497\n",
       "BldgType_2fmCon          0.039290\n",
       "BldgType_Duplex         -0.034292\n",
       "BldgType_Twnhs          -0.103140\n",
       "BldgType_TwnhsE         -0.081901\n",
       "HouseStyle_1.5Unf        0.100623\n",
       "HouseStyle_1Story        0.101658\n",
       "HouseStyle_2.5Fin        0.074243\n",
       "HouseStyle_2.5Unf        0.065369\n",
       "HouseStyle_2Story        0.034364\n",
       "HouseStyle_SFoyer        0.055712\n",
       "HouseStyle_SLvl          0.074195\n",
       "RoofStyle_Gable         -0.077985\n",
       "RoofStyle_Gambrel       -0.085628\n",
       "RoofStyle_Hip           -0.071558\n",
       "RoofStyle_Mansard        0.009145\n",
       "RoofStyle_Shed          -0.004235\n",
       "Exterior1st_AsphShn      0.042551\n",
       "Exterior1st_BrkComm     -0.331003\n",
       "Exterior1st_BrkFace      0.071095\n",
       "Exterior1st_CBlock       0.030686\n",
       "Exterior1st_CemntBd     -0.097362\n",
       "Exterior1st_HdBoard     -0.041104\n",
       "Exterior1st_ImStucc     -0.195672\n",
       "Exterior1st_MetalSd     -0.004879\n",
       "Exterior1st_Plywood     -0.028281\n",
       "Exterior1st_Stone        0.131227\n",
       "Exterior1st_Stucco      -0.021589\n",
       "Exterior1st_VinylSd     -0.053106\n",
       "Exterior1st_Wd Sdng     -0.082153\n",
       "Exterior1st_WdShing     -0.040435\n",
       "Exterior2nd_AsphShn      0.043262\n",
       "Exterior2nd_Brk Cmn      0.073331\n",
       "Exterior2nd_BrkFace      0.005483\n",
       "Exterior2nd_CBlock       0.030686\n",
       "Exterior2nd_CmentBd      0.143367\n",
       "Exterior2nd_HdBoard      0.053900\n",
       "Exterior2nd_ImStucc      0.167787\n",
       "Exterior2nd_MetalSd      0.042796\n",
       "Exterior2nd_Other        0.039255\n",
       "Exterior2nd_Plywood      0.037709\n",
       "Exterior2nd_Stone        0.023083\n",
       "Exterior2nd_Stucco       0.013930\n",
       "Exterior2nd_VinylSd      0.066382\n",
       "Exterior2nd_Wd Sdng      0.106419\n",
       "Exterior2nd_Wd Shng      0.000446\n",
       "MasVnrType_BrkFace       0.073387\n",
       "MasVnrType_None          0.058500\n",
       "MasVnrType_Stone         0.080249\n",
       "Foundation_CBlock        0.034244\n",
       "Foundation_PConc         0.037194\n",
       "Foundation_Slab         -0.037528\n",
       "Foundation_Stone         0.039989\n",
       "Foundation_Wood         -0.008633\n",
       "GarageType_Attchd        0.137154\n",
       "GarageType_Basment       0.158710\n",
       "GarageType_BuiltIn       0.121039\n",
       "GarageType_CarPort       0.082833\n",
       "GarageType_Detchd        0.128217\n",
       "GarageType_NA            0.185513\n",
       "GarageCond_Fa            0.003964\n",
       "GarageCond_Gd           -0.014764\n",
       "GarageCond_None          0.185513\n",
       "GarageCond_Po            0.137472\n",
       "GarageCond_TA            0.018741\n",
       "SaleType_CWD             0.124336\n",
       "SaleType_Con             0.111006\n",
       "SaleType_ConLD           0.128756\n",
       "SaleType_ConLI           0.020649\n",
       "SaleType_ConLw          -0.008867\n",
       "SaleType_New             0.029811\n",
       "SaleType_Oth             0.151829\n",
       "SaleType_WD              0.011691\n",
       "SaleCondition_AdjLand    0.073504\n",
       "SaleCondition_Alloca     0.159142\n",
       "SaleCondition_Family     0.018926\n",
       "SaleCondition_Normal     0.058996\n",
       "SaleCondition_Partial    0.058255\n",
       "LotFrontage             -0.000743\n",
       "LotArea                  0.000002\n",
       "OverallQual              0.054759\n",
       "MasVnrArea              -0.000003\n",
       "ExterQual                0.005089\n",
       "BsmtQual                 0.029180\n",
       "TotalBsmtSF             -0.000001\n",
       "HeatingQC                0.016183\n",
       "CentralAir               0.100308\n",
       "GrLivArea                0.000163\n",
       "KitchenQual              0.020840\n",
       "TotRmsAbvGrd             0.009084\n",
       "FireplaceQu              0.011956\n",
       "GarageFinish             0.004349\n",
       "GarageCars               0.068241\n",
       "GarageQual               0.069357\n",
       "Total_OutdoorSF          0.000127\n",
       "Baths                    0.059558\n",
       "Age                     -0.000762\n",
       "AgeRemodAdd             -0.001144\n",
       "AgeGarage                0.000732\n",
       "dtype: float64"
      ]
     },
     "execution_count": 21,
     "metadata": {},
     "output_type": "execute_result"
    }
   ],
   "source": [
    "print('The intercept is ', lm.intercept_)\n",
    "pd.Series(lm.coef_, index=X_test.columns)"
   ]
  },
  {
   "cell_type": "code",
   "execution_count": 22,
   "metadata": {
    "ExecuteTime": {
     "end_time": "2020-12-30T19:03:55.531516Z",
     "start_time": "2020-12-30T19:03:55.517733Z"
    },
    "scrolled": false
   },
   "outputs": [
    {
     "name": "stdout",
     "output_type": "stream",
     "text": [
      "The intercept is  9.575708349059656\n"
     ]
    },
    {
     "data": {
      "text/plain": [
       "MSSubClass_30           -1.379107e-01\n",
       "MSSubClass_40           -4.500080e-01\n",
       "MSSubClass_45            6.034676e-02\n",
       "MSSubClass_50            1.413411e-01\n",
       "MSSubClass_60           -1.815756e-02\n",
       "MSSubClass_70           -2.336015e-02\n",
       "MSSubClass_75           -6.351645e-03\n",
       "MSSubClass_80            1.498222e-01\n",
       "MSSubClass_85           -2.837507e-02\n",
       "MSSubClass_90           -1.514588e-02\n",
       "MSSubClass_120           2.522955e-01\n",
       "MSSubClass_160           1.924163e-01\n",
       "MSSubClass_180           2.433687e-01\n",
       "MSSubClass_190          -1.217790e-01\n",
       "MSZoning_FV              6.848365e-01\n",
       "MSZoning_RH              6.011767e-01\n",
       "MSZoning_RL              6.324506e-01\n",
       "MSZoning_RM              5.672828e-01\n",
       "LotShape_IR2             9.957563e-03\n",
       "LotShape_IR3            -3.838330e-02\n",
       "LotShape_Reg             2.107491e-02\n",
       "LandContour_HLS         -1.069950e-01\n",
       "LandContour_Low         -3.486477e-02\n",
       "LandContour_Lvl         -5.595525e-02\n",
       "LotConfig_CulDSac       -2.403880e-02\n",
       "LotConfig_FR2           -6.833399e-02\n",
       "LotConfig_FR3           -2.939911e-02\n",
       "LotConfig_Inside        -1.990418e-02\n",
       "Neighborhood_Blueste    -1.148769e-01\n",
       "Neighborhood_BrDale      2.275995e-02\n",
       "Neighborhood_BrkSide     9.835507e-02\n",
       "Neighborhood_ClearCr    -2.099909e-01\n",
       "Neighborhood_CollgCr    -2.972861e-02\n",
       "Neighborhood_Crawfor     2.734657e-01\n",
       "Neighborhood_Edwards    -1.349908e-01\n",
       "Neighborhood_Gilbert    -1.035939e-02\n",
       "Neighborhood_IDOTRR     -2.718059e-03\n",
       "Neighborhood_MeadowV    -1.137587e-01\n",
       "Neighborhood_Mitchel    -8.792269e-04\n",
       "Neighborhood_NAmes      -4.050628e-02\n",
       "Neighborhood_NPkVill    -1.130388e-01\n",
       "Neighborhood_NWAmes      1.282069e-04\n",
       "Neighborhood_NoRidge     1.263890e-01\n",
       "Neighborhood_NridgHt     6.223899e-02\n",
       "Neighborhood_OldTown    -4.875384e-02\n",
       "Neighborhood_SWISU      -1.681137e-01\n",
       "Neighborhood_Sawyer     -2.386274e-02\n",
       "Neighborhood_SawyerW     5.099335e-02\n",
       "Neighborhood_Somerst    -3.633044e-03\n",
       "Neighborhood_StoneBr     3.179992e-02\n",
       "Neighborhood_Timber      2.232216e-02\n",
       "Neighborhood_Veenker     4.272579e-02\n",
       "Condition1_Feedr         3.551862e-02\n",
       "Condition1_Norm          9.009920e-02\n",
       "Condition1_PosA         -5.707240e-16\n",
       "Condition1_PosN          7.267002e-02\n",
       "Condition1_RRAe          1.385590e-01\n",
       "Condition1_RRAn          3.292276e-02\n",
       "Condition1_RRNe          1.257620e-02\n",
       "Condition1_RRNn          4.857226e-16\n",
       "BldgType_2fmCon         -1.217790e-01\n",
       "BldgType_Duplex         -1.514588e-02\n",
       "BldgType_Twnhs          -2.953393e-01\n",
       "BldgType_TwnhsE         -2.803023e-01\n",
       "HouseStyle_1.5Unf        6.034676e-02\n",
       "HouseStyle_1Story        2.476584e-01\n",
       "HouseStyle_2.5Fin       -6.351645e-03\n",
       "HouseStyle_2.5Unf        9.436896e-16\n",
       "HouseStyle_2Story        2.344360e-01\n",
       "HouseStyle_SFoyer        2.313448e-01\n",
       "HouseStyle_SLvl          1.498222e-01\n",
       "RoofStyle_Gable         -4.529816e-02\n",
       "RoofStyle_Gambrel       -1.394568e-01\n",
       "RoofStyle_Hip            3.748008e-03\n",
       "RoofStyle_Mansard       -2.239818e-01\n",
       "RoofStyle_Shed          -1.332268e-15\n",
       "Exterior1st_AsphShn     -1.665335e-16\n",
       "Exterior1st_BrkComm     -1.665335e-16\n",
       "Exterior1st_BrkFace      1.163470e-01\n",
       "Exterior1st_CBlock      -1.387779e-15\n",
       "Exterior1st_CemntBd      2.997439e-02\n",
       "Exterior1st_HdBoard     -2.925970e-03\n",
       "Exterior1st_ImStucc      4.440892e-16\n",
       "Exterior1st_MetalSd      3.779797e-02\n",
       "Exterior1st_Plywood     -1.115081e-02\n",
       "Exterior1st_Stone       -1.068648e-01\n",
       "Exterior1st_Stucco       5.926463e-01\n",
       "Exterior1st_VinylSd     -5.507875e-02\n",
       "Exterior1st_Wd Sdng     -8.014044e-03\n",
       "Exterior1st_WdShing      2.320891e-01\n",
       "Exterior2nd_AsphShn      5.828671e-16\n",
       "Exterior2nd_Brk Cmn      2.321954e-01\n",
       "Exterior2nd_BrkFace     -1.294062e-01\n",
       "Exterior2nd_CBlock      -8.604228e-16\n",
       "Exterior2nd_CmentBd      2.997439e-02\n",
       "Exterior2nd_HdBoard     -1.629881e-02\n",
       "Exterior2nd_ImStucc      2.708817e-02\n",
       "Exterior2nd_MetalSd      6.224221e-02\n",
       "Exterior2nd_Other        4.440892e-16\n",
       "Exterior2nd_Plywood      2.029992e-02\n",
       "Exterior2nd_Stone       -5.638282e-01\n",
       "Exterior2nd_Stucco      -6.266917e-01\n",
       "Exterior2nd_VinylSd      1.444002e-01\n",
       "Exterior2nd_Wd Sdng      1.135569e-02\n",
       "Exterior2nd_Wd Shng     -1.115923e-01\n",
       "MasVnrType_BrkFace       1.017097e-01\n",
       "MasVnrType_None          1.017299e-01\n",
       "MasVnrType_Stone         1.490113e-01\n",
       "Foundation_CBlock        2.935330e-02\n",
       "Foundation_PConc         6.347712e-03\n",
       "Foundation_Slab         -3.348722e-02\n",
       "Foundation_Stone         6.650944e-01\n",
       "Foundation_Wood         -3.677614e-16\n",
       "GarageType_Attchd       -3.339603e-02\n",
       "GarageType_Basment      -6.036194e-02\n",
       "GarageType_BuiltIn       1.994330e-02\n",
       "GarageType_CarPort       3.941769e-03\n",
       "GarageType_Detchd       -4.033317e-02\n",
       "GarageType_NA            1.102061e-01\n",
       "GarageCond_Fa           -5.684346e-02\n",
       "GarageCond_Gd           -1.249001e-16\n",
       "GarageCond_None          1.102061e-01\n",
       "GarageCond_Po           -6.750489e-02\n",
       "GarageCond_TA            1.414226e-02\n",
       "SaleType_CWD            -6.245005e-17\n",
       "SaleType_Con            -5.551115e-17\n",
       "SaleType_ConLD          -5.601774e-04\n",
       "SaleType_ConLI          -1.494484e-01\n",
       "SaleType_ConLw          -2.585396e-01\n",
       "SaleType_New            -1.373410e-02\n",
       "SaleType_Oth            -2.079868e-01\n",
       "SaleType_WD             -1.353262e-01\n",
       "SaleCondition_AdjLand    0.000000e+00\n",
       "SaleCondition_Alloca     3.098672e-02\n",
       "SaleCondition_Family     8.983267e-02\n",
       "SaleCondition_Normal     1.303184e-01\n",
       "SaleCondition_Partial    2.771759e-02\n",
       "LotFrontage             -1.338500e-04\n",
       "LotArea                  8.914344e-06\n",
       "OverallQual              6.554215e-02\n",
       "MasVnrArea               5.872644e-05\n",
       "ExterQual               -1.952540e-02\n",
       "BsmtQual                -9.465419e-03\n",
       "TotalBsmtSF              1.213560e-04\n",
       "HeatingQC                1.395149e-02\n",
       "CentralAir               5.614782e-02\n",
       "GrLivArea                2.077744e-04\n",
       "KitchenQual              5.082975e-02\n",
       "TotRmsAbvGrd            -5.666258e-03\n",
       "FireplaceQu              1.050103e-02\n",
       "GarageFinish             5.995016e-04\n",
       "GarageCars               3.317806e-02\n",
       "GarageQual               8.241052e-02\n",
       "Total_OutdoorSF          2.207404e-04\n",
       "Baths                    3.241105e-02\n",
       "Age                      8.256281e-04\n",
       "AgeRemodAdd             -8.921347e-04\n",
       "AgeGarage               -5.240901e-04\n",
       "dtype: float64"
      ]
     },
     "execution_count": 22,
     "metadata": {},
     "output_type": "execute_result"
    }
   ],
   "source": [
    "print('The intercept is ', lm2.intercept_)\n",
    "pd.Series(lm2.coef_, index=X_test.columns)"
   ]
  },
  {
   "cell_type": "code",
   "execution_count": null,
   "metadata": {},
   "outputs": [],
   "source": []
  }
 ],
 "metadata": {
  "kernelspec": {
   "display_name": "Python 3",
   "language": "python",
   "name": "python3"
  },
  "language_info": {
   "codemirror_mode": {
    "name": "ipython",
    "version": 3
   },
   "file_extension": ".py",
   "mimetype": "text/x-python",
   "name": "python",
   "nbconvert_exporter": "python",
   "pygments_lexer": "ipython3",
   "version": "3.8.3"
  },
  "toc": {
   "base_numbering": 1,
   "nav_menu": {},
   "number_sections": true,
   "sideBar": true,
   "skip_h1_title": false,
   "title_cell": "Table of Contents",
   "title_sidebar": "Contents",
   "toc_cell": true,
   "toc_position": {},
   "toc_section_display": true,
   "toc_window_display": false
  },
  "varInspector": {
   "cols": {
    "lenName": 16,
    "lenType": 16,
    "lenVar": 40
   },
   "kernels_config": {
    "python": {
     "delete_cmd_postfix": "",
     "delete_cmd_prefix": "del ",
     "library": "var_list.py",
     "varRefreshCmd": "print(var_dic_list())"
    },
    "r": {
     "delete_cmd_postfix": ") ",
     "delete_cmd_prefix": "rm(",
     "library": "var_list.r",
     "varRefreshCmd": "cat(var_dic_list()) "
    }
   },
   "types_to_exclude": [
    "module",
    "function",
    "builtin_function_or_method",
    "instance",
    "_Feature"
   ],
   "window_display": false
  }
 },
 "nbformat": 4,
 "nbformat_minor": 4
}
